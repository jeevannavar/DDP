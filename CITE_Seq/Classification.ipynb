{
 "cells": [
  {
   "cell_type": "markdown",
   "metadata": {},
   "source": [
    "# Cell-type Classification on BMNC CITE Seq Data"
   ]
  },
  {
   "cell_type": "markdown",
   "metadata": {},
   "source": [
    "The CITE-Seq data set consists of two modalities: RNA (Gene Expression) and Protein (Antibody Derived Tags \\[ADTs\\])\n",
    "\n",
    "Here, we have also predicted ADT data from XGBoost and cTPnet, based on the measured gene expression."
   ]
  },
  {
   "cell_type": "markdown",
   "metadata": {},
   "source": [
    "In this notebook, cell-type classification will be done with the following as input data:\n",
    "1. Measured gene expression only\n",
    "2. Measured gene expression and ADT\n",
    "3. Measured gene expression and XGBoost predicted ADT\n",
    "4. Measured gene expression and cTPnet predicted ADT"
   ]
  },
  {
   "cell_type": "markdown",
   "metadata": {},
   "source": [
    "(1) is the control.  \n",
    "(2) uses a multi-omic approach to determine if the ADT data adds anything of value to the classification task.  \n",
    "(3) and (4) are used to infer whether the ADT data can be predicted from the gene expression itself, in which case measuring ADTs would become unnecessary. Also, (3) and (4) can be compared to determine which method is better for prediciting ADT values."
   ]
  },
  {
   "cell_type": "code",
   "execution_count": 1,
   "metadata": {},
   "outputs": [],
   "source": [
    "# Loading necessary libraries and functions\n",
    "import sys\n",
    "sys.path.append('../')\n",
    "from main import train_model\n",
    "from experimental import process, train\n",
    "import pandas as pd\n",
    "import numpy as np\n",
    "\n",
    "# File locations\n",
    "rna_file = \"../../CITEseq_BMNC/rna.csv\"\n",
    "adt_file = \"../R/CITE_Seq_BMNC/adt.csv\"\n",
    "adt_xgboost_file = \"../R/CITE_Seq_BMNC/adt_xgboost.csv\"\n",
    "adt_ctpnet_file = \"../R/CITE_Seq_BMNC/adt_ctpnet.csv\"\n",
    "meta_file = \"../R/CITE_Seq_BMNC/cell_type.csv\"\n",
    "trte_partition_file = \"../R/CITE_Seq_BMNC/trte_partition.txt\""
   ]
  },
  {
   "cell_type": "markdown",
   "metadata": {},
   "source": [
    "## Measured Gene Expression Only"
   ]
  },
  {
   "cell_type": "code",
   "execution_count": 2,
   "metadata": {},
   "outputs": [],
   "source": [
    "# Setting all variables for run\n",
    "# SEED can be \"random\" or integer, if integer, it will be used as the seed for random, numpy, torch, and cuda\n",
    "SEED = 42 \n",
    "\n",
    "# change label from text to integer\n",
    "labels = pd.read_csv(meta_file, index_col=\"cell_id\")\n",
    "label_dict = dict(zip(set(labels[\"cell_type\"]), range(len(set(labels[\"cell_type\"])))))\n",
    "\n",
    "COMBINER = False \n",
    "doSMOTE = False \n",
    "\n",
    "# Training parameters\n",
    "num_epoch = 100\n",
    "test_interval = 10\n",
    "lr = 5e-4\n",
    "weight_decay = 1e-3\n",
    "dropout = 0.25\n",
    "adj_parameter = 8 # average number of edge per node in adj matrix\n",
    "\n",
    "VERBOSE = 1 #0, only print final result; 1, only testing result; 2, training and testing result\n",
    "OUTPUT_FILES = False #Boolean to determine whether to output loss and metrics as csv files\n",
    "MAKE_PLOTS = False #Boolean to determine whether to output loss and metrics as plots in png format\n",
    "REPEATS = 1 #Integer, how many times to independently train the model\n",
    "feature_extract = []"
   ]
  },
  {
   "cell_type": "code",
   "execution_count": 5,
   "metadata": {},
   "outputs": [],
   "source": [
    "RUN_TITLE = \"BMNC CITE-Seq RNA Only\"\n",
    "RUN_TITLE_SHORT = \"RNA Only\"\n",
    "\n",
    "load_list = [rna_file, meta_file, trte_partition_file]\n",
    "GCN_names = [\"RNA\"]\n",
    "\n",
    "rna = pd.read_csv(rna_file, index_col=\"cell_id\")\n",
    "meta = pd.read_csv(meta_file, index_col=\"cell_id\")"
   ]
  },
  {
   "cell_type": "code",
   "execution_count": 34,
   "metadata": {},
   "outputs": [],
   "source": [
    "# Getting labels\n",
    "#meta = pd.read_csv(meta_file, index_col=\"cell_id\")\n",
    "#meta = meta.reindex(index=mirna.index)\n",
    "#labels.iloc[:].value_counts()\n",
    "label_dict = dict(zip(set(meta[\"cell_type\"]), range(len(set(meta[\"cell_type\"])))))\n",
    "#labels = [label_dict[x] for x in meta_smol.iloc[:].tolist()]\n",
    "\n",
    "\n",
    "# Getting training and testing indices\n",
    "patient_id = rna.index.to_numpy()\n",
    "with open(trte_partition_file, 'r') as f:\n",
    "    lines = f.readlines()\n",
    "\n",
    "tr_patient_id_list = lines[1].strip().split(',')\n",
    "te_patient_id_list = lines[3].strip().split(',')\n",
    "tr_idx = [np.where(patient_id == pid)[0][0] for pid in tr_patient_id_list]\n",
    "te_idx = [np.where(patient_id == pid)[0][0] for pid in te_patient_id_list]\n",
    "te_idx = sorted(te_idx)\n",
    "\n",
    "rna_train = rna.iloc[tr_idx,:]\n",
    "rna_test = rna.iloc[te_idx,:]\n",
    "\n",
    "meta_train = meta.iloc[tr_idx,:]\n",
    "meta_test = meta.iloc[te_idx,:]"
   ]
  },
  {
   "cell_type": "code",
   "execution_count": 38,
   "metadata": {},
   "outputs": [],
   "source": [
    "# A mixture of oversampling and undersampling\n",
    "from imblearn.over_sampling import SMOTE\n",
    "from imblearn.under_sampling import RandomUnderSampler\n",
    "\n",
    "# Setting the target so that the data is undersampled so that every cell_type that has more than 200 samples is reduced to 200\n",
    "target = meta_train[\"cell_type\"].value_counts().to_dict()\n",
    "for key in target:\n",
    "    target[key] = min(target[key],200)\n",
    "\n",
    "under = RandomUnderSampler(random_state=SEED, sampling_strategy=target)\n",
    "rna_smol, meta_smol = under.fit_resample(rna_train, meta_train[\"cell_type\"])\n",
    "\n",
    "# Setting the target so that cell_types with fewer than 200 samples are oversampled to 200\n",
    "for key in target:\n",
    "    target[key] = 200\n",
    "smote = SMOTE(random_state=SEED, sampling_strategy=target)\n",
    "\n",
    "rna_smol, meta_smol = smote.fit_resample(rna_smol, meta_smol)"
   ]
  },
  {
   "cell_type": "code",
   "execution_count": null,
   "metadata": {},
   "outputs": [],
   "source": [
    "# Remake the labels and tr_idx and te_idx (just use range() function)\n",
    "# Combine rna_smol and rna_test"
   ]
  },
  {
   "cell_type": "code",
   "execution_count": 19,
   "metadata": {},
   "outputs": [
    {
     "name": "stdout",
     "output_type": "stream",
     "text": [
      "SEED =  42\n"
     ]
    }
   ],
   "source": [
    "data_list = [rna]\n",
    "labels = np.array(labels)\n",
    "indices = (tr_idx, te_idx)\n",
    "\n",
    "GCN_names = [\"RNA\"]\n",
    "COMBINER = False\n",
    "\n",
    "data = process(data_list, labels, indices, SEED=SEED)"
   ]
  },
  {
   "cell_type": "code",
   "execution_count": null,
   "metadata": {
    "scrolled": true
   },
   "outputs": [
    {
     "name": "stdout",
     "output_type": "stream",
     "text": [
      "2021-05-22 23:21:24.464730 \n",
      "\n",
      "BMNC CITE-Seq RNA Only\n",
      "SEED =  42\n"
     ]
    }
   ],
   "source": [
    "loss_rna, metrics_rna, _, _ = train(data, label_dict=label_dict, GCN_names=GCN_names, COMBINER=COMBINER,\n",
    "        SEED=SEED, num_epoch=num_epoch, test_interval=test_interval, lr=lr, weight_decay=weight_decay, \n",
    "        dropout=dropout, adj_parameter=adj_parameter, VERBOSE=VERBOSE,\n",
    "        RUN_TITLE=RUN_TITLE, RUN_TITLE_SHORT=RUN_TITLE_SHORT,\n",
    "        OUTPUT_FILES=OUTPUT_FILES, feature_extract=feature_extract)\n",
    "\n",
    "#losses_tcga.to_csv(\"loss_rna.csv\")\n",
    "#metrics_tcga.to_csv(\"metric_rna.csv\")"
   ]
  }
 ],
 "metadata": {
  "kernelspec": {
   "display_name": "Python 3",
   "language": "python",
   "name": "python3"
  }
 },
 "nbformat": 4,
 "nbformat_minor": 2
}
