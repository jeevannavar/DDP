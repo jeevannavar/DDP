{
 "cells": [
  {
   "cell_type": "markdown",
   "metadata": {},
   "source": [
    "# Multi-Omics Imputation\n",
    "\n",
    "The plan is to do the following:\n",
    "- Divide the data into train, validation, and test sets. Leave the test set for later.\n",
    "- Remove the values for a certain omics type from the validation set\n",
    "- Impute using the train set and the remaining value in the validation set\n",
    "- Compare these imputed values against the true values\n",
    "    - Distribution of correlation coefficients\n",
    "    - Get the mean and stdev of the correlation coefficients\n",
    "    - Choose best model\n",
    "- Evaluate on test set\n",
    "- Choose best method\n",
    "- Try on independent set\n",
    "- Finally, train GCN model and see difference between single omics, multi-omics, and imputed multi-omics\n",
    "\n",
    "I'll first start with some basics: data import and processing.\n",
    "Then I'll move to imputing one omics from two.\n",
    "Then I'll move to imputing two omics from one.\n",
    "I'll do all the steps above along the way."
   ]
  },
  {
   "cell_type": "markdown",
   "metadata": {},
   "source": [
    "## Importing requisite packages"
   ]
  },
  {
   "cell_type": "code",
   "execution_count": 1,
   "metadata": {},
   "outputs": [],
   "source": [
    "import numpy as np\n",
    "import pandas as pd\n",
    "import matplotlib.pyplot as plt\n",
    "from sklearn.model_selection import train_test_split\n",
    "from metrics import *"
   ]
  },
  {
   "cell_type": "markdown",
   "metadata": {},
   "source": [
    "## Importing data"
   ]
  },
  {
   "cell_type": "code",
   "execution_count": 2,
   "metadata": {},
   "outputs": [],
   "source": [
    "mrna = pd.read_csv(\"../R/TCGA BRCA/mrna_top1000.csv\", index_col=0)\n",
    "meth = pd.read_csv(\"../R/TCGA BRCA/meth_top1000.csv\", index_col=0)\n",
    "mirna = pd.read_csv(\"../R/TCGA BRCA/mirna_anova.csv\", index_col=0)\n",
    "\n",
    "labels = pd.read_csv(\"../R/TCGA BRCA/PAM50_subtype.csv\", index_col=0)"
   ]
  },
  {
   "cell_type": "markdown",
   "metadata": {},
   "source": [
    "## Basic Data Processing"
   ]
  },
  {
   "cell_type": "markdown",
   "metadata": {},
   "source": [
    "Just combining all data and then also having a list containing what datatype the columns belong to."
   ]
  },
  {
   "cell_type": "code",
   "execution_count": 3,
   "metadata": {},
   "outputs": [],
   "source": [
    "all_data = pd.merge(pd.merge(mrna, meth, left_index=True, right_index=True), mirna,  left_index=True, right_index=True)\n",
    "\n",
    "datatypes = [\"mrna\"]*mrna.shape[1] + [\"meth\"]*meth.shape[1] + [\"mirna\"]*mirna.shape[1]"
   ]
  },
  {
   "cell_type": "code",
   "execution_count": 27,
   "metadata": {},
   "outputs": [
    {
     "data": {
      "text/html": [
       "<div>\n",
       "<style scoped>\n",
       "    .dataframe tbody tr th:only-of-type {\n",
       "        vertical-align: middle;\n",
       "    }\n",
       "\n",
       "    .dataframe tbody tr th {\n",
       "        vertical-align: top;\n",
       "    }\n",
       "\n",
       "    .dataframe thead th {\n",
       "        text-align: right;\n",
       "    }\n",
       "</style>\n",
       "<table border=\"1\" class=\"dataframe\">\n",
       "  <thead>\n",
       "    <tr style=\"text-align: right;\">\n",
       "      <th></th>\n",
       "      <th>DBF4|10926</th>\n",
       "      <th>DACH1|1602</th>\n",
       "      <th>BBS4|585</th>\n",
       "      <th>L3MBTL4|91133</th>\n",
       "      <th>TK1|7083</th>\n",
       "      <th>KIAA1370|56204</th>\n",
       "      <th>GPD1L|23171</th>\n",
       "      <th>RERG|85004</th>\n",
       "      <th>RAPGEF3|10411</th>\n",
       "      <th>FBXO36|130888</th>\n",
       "      <th>...</th>\n",
       "      <th>hsa-mir-217</th>\n",
       "      <th>hsa-mir-424</th>\n",
       "      <th>hsa-mir-581</th>\n",
       "      <th>hsa-mir-483</th>\n",
       "      <th>hsa-mir-3614</th>\n",
       "      <th>hsa-mir-16-1</th>\n",
       "      <th>hsa-mir-550a-2</th>\n",
       "      <th>hsa-mir-24-1</th>\n",
       "      <th>hsa-mir-508</th>\n",
       "      <th>hsa-mir-642a</th>\n",
       "    </tr>\n",
       "    <tr>\n",
       "      <th>patient_id</th>\n",
       "      <th></th>\n",
       "      <th></th>\n",
       "      <th></th>\n",
       "      <th></th>\n",
       "      <th></th>\n",
       "      <th></th>\n",
       "      <th></th>\n",
       "      <th></th>\n",
       "      <th></th>\n",
       "      <th></th>\n",
       "      <th></th>\n",
       "      <th></th>\n",
       "      <th></th>\n",
       "      <th></th>\n",
       "      <th></th>\n",
       "      <th></th>\n",
       "      <th></th>\n",
       "      <th></th>\n",
       "      <th></th>\n",
       "      <th></th>\n",
       "      <th></th>\n",
       "    </tr>\n",
       "  </thead>\n",
       "  <tbody>\n",
       "    <tr>\n",
       "      <th>TCGA-D8-A1XU-01</th>\n",
       "      <td>0.277770</td>\n",
       "      <td>0.758159</td>\n",
       "      <td>0.378836</td>\n",
       "      <td>0.356571</td>\n",
       "      <td>0.434890</td>\n",
       "      <td>0.554010</td>\n",
       "      <td>0.492860</td>\n",
       "      <td>0.812734</td>\n",
       "      <td>0.599057</td>\n",
       "      <td>0.787462</td>\n",
       "      <td>...</td>\n",
       "      <td>0.004411</td>\n",
       "      <td>0.078464</td>\n",
       "      <td>0.3125</td>\n",
       "      <td>0.002911</td>\n",
       "      <td>0.001617</td>\n",
       "      <td>0.059937</td>\n",
       "      <td>0.046753</td>\n",
       "      <td>0.256461</td>\n",
       "      <td>0.010449</td>\n",
       "      <td>0.070690</td>\n",
       "    </tr>\n",
       "    <tr>\n",
       "      <th>TCGA-D8-A1XV-01</th>\n",
       "      <td>0.513189</td>\n",
       "      <td>0.830736</td>\n",
       "      <td>0.648579</td>\n",
       "      <td>0.674419</td>\n",
       "      <td>0.566643</td>\n",
       "      <td>0.889481</td>\n",
       "      <td>0.607707</td>\n",
       "      <td>0.797190</td>\n",
       "      <td>0.454187</td>\n",
       "      <td>0.844195</td>\n",
       "      <td>...</td>\n",
       "      <td>0.003170</td>\n",
       "      <td>0.012424</td>\n",
       "      <td>0.1250</td>\n",
       "      <td>0.000333</td>\n",
       "      <td>0.002426</td>\n",
       "      <td>0.082900</td>\n",
       "      <td>0.038961</td>\n",
       "      <td>0.037773</td>\n",
       "      <td>0.003380</td>\n",
       "      <td>0.032759</td>\n",
       "    </tr>\n",
       "    <tr>\n",
       "      <th>TCGA-E9-A1N3-01</th>\n",
       "      <td>0.509665</td>\n",
       "      <td>1.000000</td>\n",
       "      <td>0.553200</td>\n",
       "      <td>0.152295</td>\n",
       "      <td>0.632370</td>\n",
       "      <td>0.669888</td>\n",
       "      <td>0.497003</td>\n",
       "      <td>0.789170</td>\n",
       "      <td>0.553367</td>\n",
       "      <td>0.915498</td>\n",
       "      <td>...</td>\n",
       "      <td>0.003446</td>\n",
       "      <td>0.044661</td>\n",
       "      <td>0.6875</td>\n",
       "      <td>0.000832</td>\n",
       "      <td>0.002426</td>\n",
       "      <td>0.063510</td>\n",
       "      <td>0.049351</td>\n",
       "      <td>0.093439</td>\n",
       "      <td>0.053473</td>\n",
       "      <td>0.110345</td>\n",
       "    </tr>\n",
       "    <tr>\n",
       "      <th>TCGA-C8-A1HE-01</th>\n",
       "      <td>0.362294</td>\n",
       "      <td>0.879097</td>\n",
       "      <td>0.601582</td>\n",
       "      <td>0.283353</td>\n",
       "      <td>0.540255</td>\n",
       "      <td>0.786171</td>\n",
       "      <td>0.813419</td>\n",
       "      <td>0.758284</td>\n",
       "      <td>0.668789</td>\n",
       "      <td>0.885250</td>\n",
       "      <td>...</td>\n",
       "      <td>0.001792</td>\n",
       "      <td>0.057869</td>\n",
       "      <td>0.1250</td>\n",
       "      <td>0.001248</td>\n",
       "      <td>0.004448</td>\n",
       "      <td>0.066019</td>\n",
       "      <td>0.007792</td>\n",
       "      <td>0.041750</td>\n",
       "      <td>0.001537</td>\n",
       "      <td>0.044828</td>\n",
       "    </tr>\n",
       "    <tr>\n",
       "      <th>TCGA-A1-A0SQ-01</th>\n",
       "      <td>0.429836</td>\n",
       "      <td>0.693130</td>\n",
       "      <td>0.505465</td>\n",
       "      <td>0.292312</td>\n",
       "      <td>0.608069</td>\n",
       "      <td>0.628752</td>\n",
       "      <td>0.616969</td>\n",
       "      <td>0.737191</td>\n",
       "      <td>0.509752</td>\n",
       "      <td>0.708378</td>\n",
       "      <td>...</td>\n",
       "      <td>0.001103</td>\n",
       "      <td>0.005261</td>\n",
       "      <td>0.0625</td>\n",
       "      <td>0.000083</td>\n",
       "      <td>0.003235</td>\n",
       "      <td>0.010478</td>\n",
       "      <td>0.005195</td>\n",
       "      <td>0.009940</td>\n",
       "      <td>0.000615</td>\n",
       "      <td>0.155172</td>\n",
       "    </tr>\n",
       "  </tbody>\n",
       "</table>\n",
       "<p>5 rows × 2257 columns</p>\n",
       "</div>"
      ],
      "text/plain": [
       "                 DBF4|10926  DACH1|1602  BBS4|585  L3MBTL4|91133  TK1|7083  \\\n",
       "patient_id                                                                   \n",
       "TCGA-D8-A1XU-01    0.277770    0.758159  0.378836       0.356571  0.434890   \n",
       "TCGA-D8-A1XV-01    0.513189    0.830736  0.648579       0.674419  0.566643   \n",
       "TCGA-E9-A1N3-01    0.509665    1.000000  0.553200       0.152295  0.632370   \n",
       "TCGA-C8-A1HE-01    0.362294    0.879097  0.601582       0.283353  0.540255   \n",
       "TCGA-A1-A0SQ-01    0.429836    0.693130  0.505465       0.292312  0.608069   \n",
       "\n",
       "                 KIAA1370|56204  GPD1L|23171  RERG|85004  RAPGEF3|10411  \\\n",
       "patient_id                                                                \n",
       "TCGA-D8-A1XU-01        0.554010     0.492860    0.812734       0.599057   \n",
       "TCGA-D8-A1XV-01        0.889481     0.607707    0.797190       0.454187   \n",
       "TCGA-E9-A1N3-01        0.669888     0.497003    0.789170       0.553367   \n",
       "TCGA-C8-A1HE-01        0.786171     0.813419    0.758284       0.668789   \n",
       "TCGA-A1-A0SQ-01        0.628752     0.616969    0.737191       0.509752   \n",
       "\n",
       "                 FBXO36|130888  ...  hsa-mir-217  hsa-mir-424  hsa-mir-581  \\\n",
       "patient_id                      ...                                          \n",
       "TCGA-D8-A1XU-01       0.787462  ...     0.004411     0.078464       0.3125   \n",
       "TCGA-D8-A1XV-01       0.844195  ...     0.003170     0.012424       0.1250   \n",
       "TCGA-E9-A1N3-01       0.915498  ...     0.003446     0.044661       0.6875   \n",
       "TCGA-C8-A1HE-01       0.885250  ...     0.001792     0.057869       0.1250   \n",
       "TCGA-A1-A0SQ-01       0.708378  ...     0.001103     0.005261       0.0625   \n",
       "\n",
       "                 hsa-mir-483  hsa-mir-3614  hsa-mir-16-1  hsa-mir-550a-2  \\\n",
       "patient_id                                                                 \n",
       "TCGA-D8-A1XU-01     0.002911      0.001617      0.059937        0.046753   \n",
       "TCGA-D8-A1XV-01     0.000333      0.002426      0.082900        0.038961   \n",
       "TCGA-E9-A1N3-01     0.000832      0.002426      0.063510        0.049351   \n",
       "TCGA-C8-A1HE-01     0.001248      0.004448      0.066019        0.007792   \n",
       "TCGA-A1-A0SQ-01     0.000083      0.003235      0.010478        0.005195   \n",
       "\n",
       "                 hsa-mir-24-1  hsa-mir-508  hsa-mir-642a  \n",
       "patient_id                                                \n",
       "TCGA-D8-A1XU-01      0.256461     0.010449      0.070690  \n",
       "TCGA-D8-A1XV-01      0.037773     0.003380      0.032759  \n",
       "TCGA-E9-A1N3-01      0.093439     0.053473      0.110345  \n",
       "TCGA-C8-A1HE-01      0.041750     0.001537      0.044828  \n",
       "TCGA-A1-A0SQ-01      0.009940     0.000615      0.155172  \n",
       "\n",
       "[5 rows x 2257 columns]"
      ]
     },
     "execution_count": 27,
     "metadata": {},
     "output_type": "execute_result"
    }
   ],
   "source": [
    "all_data = (all_data-all_data.min())/(all_data.max() - all_data.min())\n",
    "all_data.head()"
   ]
  },
  {
   "cell_type": "code",
   "execution_count": 4,
   "metadata": {},
   "outputs": [
    {
     "data": {
      "text/html": [
       "<div>\n",
       "<style scoped>\n",
       "    .dataframe tbody tr th:only-of-type {\n",
       "        vertical-align: middle;\n",
       "    }\n",
       "\n",
       "    .dataframe tbody tr th {\n",
       "        vertical-align: top;\n",
       "    }\n",
       "\n",
       "    .dataframe thead th {\n",
       "        text-align: right;\n",
       "    }\n",
       "</style>\n",
       "<table border=\"1\" class=\"dataframe\">\n",
       "  <thead>\n",
       "    <tr style=\"text-align: right;\">\n",
       "      <th></th>\n",
       "      <th>cancer_subtype</th>\n",
       "    </tr>\n",
       "    <tr>\n",
       "      <th>patient_id</th>\n",
       "      <th></th>\n",
       "    </tr>\n",
       "  </thead>\n",
       "  <tbody>\n",
       "    <tr>\n",
       "      <th>TCGA-D8-A1XU-01</th>\n",
       "      <td>LumA</td>\n",
       "    </tr>\n",
       "    <tr>\n",
       "      <th>TCGA-D8-A1XV-01</th>\n",
       "      <td>LumA</td>\n",
       "    </tr>\n",
       "    <tr>\n",
       "      <th>TCGA-E9-A1N3-01</th>\n",
       "      <td>LumA</td>\n",
       "    </tr>\n",
       "    <tr>\n",
       "      <th>TCGA-C8-A1HE-01</th>\n",
       "      <td>LumA</td>\n",
       "    </tr>\n",
       "    <tr>\n",
       "      <th>TCGA-A1-A0SQ-01</th>\n",
       "      <td>LumA</td>\n",
       "    </tr>\n",
       "  </tbody>\n",
       "</table>\n",
       "</div>"
      ],
      "text/plain": [
       "                cancer_subtype\n",
       "patient_id                    \n",
       "TCGA-D8-A1XU-01           LumA\n",
       "TCGA-D8-A1XV-01           LumA\n",
       "TCGA-E9-A1N3-01           LumA\n",
       "TCGA-C8-A1HE-01           LumA\n",
       "TCGA-A1-A0SQ-01           LumA"
      ]
     },
     "execution_count": 4,
     "metadata": {},
     "output_type": "execute_result"
    }
   ],
   "source": [
    "labels.head()"
   ]
  },
  {
   "cell_type": "markdown",
   "metadata": {},
   "source": [
    "Doing the train-validation-test split.\n",
    "These contain all the values intact.  \n",
    "\n",
    "Here, we do a 60-20-20 split."
   ]
  },
  {
   "cell_type": "code",
   "execution_count": 28,
   "metadata": {},
   "outputs": [
    {
     "name": "stdout",
     "output_type": "stream",
     "text": [
      "(372, 2257)\n",
      "(125, 2257)\n",
      "(125, 2257)\n",
      "(372, 1)\n",
      "(125, 1)\n",
      "(125, 1)\n"
     ]
    }
   ],
   "source": [
    "X_train, X_test, y_train, y_test = train_test_split(all_data, labels, test_size = 0.2, random_state = 42, stratify = labels)\n",
    "X_train, X_val, y_train, y_val = train_test_split(X_train, y_train, test_size = 0.25, random_state = 42, stratify = y_train)\n",
    "\n",
    "\n",
    "print(X_train.shape)\n",
    "print(X_val.shape)\n",
    "print(X_test.shape)\n",
    "print(y_train.shape)\n",
    "print(y_val.shape)\n",
    "print(y_test.shape)\n",
    "\n",
    "#all_data.head()\n",
    "#labels.head()\n",
    "#X_train.head()\n",
    "#y_train.head()"
   ]
  },
  {
   "cell_type": "markdown",
   "metadata": {},
   "source": [
    "Removing all miRNA feature values"
   ]
  },
  {
   "cell_type": "code",
   "execution_count": 29,
   "metadata": {},
   "outputs": [
    {
     "name": "stderr",
     "output_type": "stream",
     "text": [
      "/home/bs16b001/.local/lib/python3.7/site-packages/pandas/core/indexing.py:1636: SettingWithCopyWarning: \n",
      "A value is trying to be set on a copy of a slice from a DataFrame\n",
      "\n",
      "See the caveats in the documentation: https://pandas.pydata.org/pandas-docs/stable/user_guide/indexing.html#returning-a-view-versus-a-copy\n",
      "  self._setitem_single_block(indexer, value, name)\n",
      "/home/bs16b001/.local/lib/python3.7/site-packages/pandas/core/indexing.py:691: SettingWithCopyWarning: \n",
      "A value is trying to be set on a copy of a slice from a DataFrame\n",
      "\n",
      "See the caveats in the documentation: https://pandas.pydata.org/pandas-docs/stable/user_guide/indexing.html#returning-a-view-versus-a-copy\n",
      "  iloc._setitem_with_indexer(indexer, value, self.name)\n"
     ]
    },
    {
     "data": {
      "text/html": [
       "<div>\n",
       "<style scoped>\n",
       "    .dataframe tbody tr th:only-of-type {\n",
       "        vertical-align: middle;\n",
       "    }\n",
       "\n",
       "    .dataframe tbody tr th {\n",
       "        vertical-align: top;\n",
       "    }\n",
       "\n",
       "    .dataframe thead th {\n",
       "        text-align: right;\n",
       "    }\n",
       "</style>\n",
       "<table border=\"1\" class=\"dataframe\">\n",
       "  <thead>\n",
       "    <tr style=\"text-align: right;\">\n",
       "      <th></th>\n",
       "      <th>hsa-mir-576</th>\n",
       "      <th>hsa-mir-200b</th>\n",
       "      <th>hsa-mir-3687</th>\n",
       "      <th>hsa-mir-126</th>\n",
       "      <th>hsa-mir-26a-2</th>\n",
       "      <th>hsa-mir-101-1</th>\n",
       "      <th>hsa-mir-218-2</th>\n",
       "      <th>hsa-mir-223</th>\n",
       "      <th>hsa-mir-335</th>\n",
       "      <th>hsa-mir-1468</th>\n",
       "      <th>...</th>\n",
       "      <th>hsa-mir-217</th>\n",
       "      <th>hsa-mir-424</th>\n",
       "      <th>hsa-mir-581</th>\n",
       "      <th>hsa-mir-483</th>\n",
       "      <th>hsa-mir-3614</th>\n",
       "      <th>hsa-mir-16-1</th>\n",
       "      <th>hsa-mir-550a-2</th>\n",
       "      <th>hsa-mir-24-1</th>\n",
       "      <th>hsa-mir-508</th>\n",
       "      <th>hsa-mir-642a</th>\n",
       "    </tr>\n",
       "    <tr>\n",
       "      <th>patient_id</th>\n",
       "      <th></th>\n",
       "      <th></th>\n",
       "      <th></th>\n",
       "      <th></th>\n",
       "      <th></th>\n",
       "      <th></th>\n",
       "      <th></th>\n",
       "      <th></th>\n",
       "      <th></th>\n",
       "      <th></th>\n",
       "      <th></th>\n",
       "      <th></th>\n",
       "      <th></th>\n",
       "      <th></th>\n",
       "      <th></th>\n",
       "      <th></th>\n",
       "      <th></th>\n",
       "      <th></th>\n",
       "      <th></th>\n",
       "      <th></th>\n",
       "      <th></th>\n",
       "    </tr>\n",
       "  </thead>\n",
       "  <tbody>\n",
       "    <tr>\n",
       "      <th>TCGA-A2-A3XX-01</th>\n",
       "      <td>NaN</td>\n",
       "      <td>NaN</td>\n",
       "      <td>NaN</td>\n",
       "      <td>NaN</td>\n",
       "      <td>NaN</td>\n",
       "      <td>NaN</td>\n",
       "      <td>NaN</td>\n",
       "      <td>NaN</td>\n",
       "      <td>NaN</td>\n",
       "      <td>NaN</td>\n",
       "      <td>...</td>\n",
       "      <td>NaN</td>\n",
       "      <td>NaN</td>\n",
       "      <td>NaN</td>\n",
       "      <td>NaN</td>\n",
       "      <td>NaN</td>\n",
       "      <td>NaN</td>\n",
       "      <td>NaN</td>\n",
       "      <td>NaN</td>\n",
       "      <td>NaN</td>\n",
       "      <td>NaN</td>\n",
       "    </tr>\n",
       "    <tr>\n",
       "      <th>TCGA-BH-A0DI-01</th>\n",
       "      <td>NaN</td>\n",
       "      <td>NaN</td>\n",
       "      <td>NaN</td>\n",
       "      <td>NaN</td>\n",
       "      <td>NaN</td>\n",
       "      <td>NaN</td>\n",
       "      <td>NaN</td>\n",
       "      <td>NaN</td>\n",
       "      <td>NaN</td>\n",
       "      <td>NaN</td>\n",
       "      <td>...</td>\n",
       "      <td>NaN</td>\n",
       "      <td>NaN</td>\n",
       "      <td>NaN</td>\n",
       "      <td>NaN</td>\n",
       "      <td>NaN</td>\n",
       "      <td>NaN</td>\n",
       "      <td>NaN</td>\n",
       "      <td>NaN</td>\n",
       "      <td>NaN</td>\n",
       "      <td>NaN</td>\n",
       "    </tr>\n",
       "    <tr>\n",
       "      <th>TCGA-A7-A6VX-01</th>\n",
       "      <td>NaN</td>\n",
       "      <td>NaN</td>\n",
       "      <td>NaN</td>\n",
       "      <td>NaN</td>\n",
       "      <td>NaN</td>\n",
       "      <td>NaN</td>\n",
       "      <td>NaN</td>\n",
       "      <td>NaN</td>\n",
       "      <td>NaN</td>\n",
       "      <td>NaN</td>\n",
       "      <td>...</td>\n",
       "      <td>NaN</td>\n",
       "      <td>NaN</td>\n",
       "      <td>NaN</td>\n",
       "      <td>NaN</td>\n",
       "      <td>NaN</td>\n",
       "      <td>NaN</td>\n",
       "      <td>NaN</td>\n",
       "      <td>NaN</td>\n",
       "      <td>NaN</td>\n",
       "      <td>NaN</td>\n",
       "    </tr>\n",
       "    <tr>\n",
       "      <th>TCGA-BH-A0AZ-01</th>\n",
       "      <td>NaN</td>\n",
       "      <td>NaN</td>\n",
       "      <td>NaN</td>\n",
       "      <td>NaN</td>\n",
       "      <td>NaN</td>\n",
       "      <td>NaN</td>\n",
       "      <td>NaN</td>\n",
       "      <td>NaN</td>\n",
       "      <td>NaN</td>\n",
       "      <td>NaN</td>\n",
       "      <td>...</td>\n",
       "      <td>NaN</td>\n",
       "      <td>NaN</td>\n",
       "      <td>NaN</td>\n",
       "      <td>NaN</td>\n",
       "      <td>NaN</td>\n",
       "      <td>NaN</td>\n",
       "      <td>NaN</td>\n",
       "      <td>NaN</td>\n",
       "      <td>NaN</td>\n",
       "      <td>NaN</td>\n",
       "    </tr>\n",
       "    <tr>\n",
       "      <th>TCGA-AR-A1AX-01</th>\n",
       "      <td>NaN</td>\n",
       "      <td>NaN</td>\n",
       "      <td>NaN</td>\n",
       "      <td>NaN</td>\n",
       "      <td>NaN</td>\n",
       "      <td>NaN</td>\n",
       "      <td>NaN</td>\n",
       "      <td>NaN</td>\n",
       "      <td>NaN</td>\n",
       "      <td>NaN</td>\n",
       "      <td>...</td>\n",
       "      <td>NaN</td>\n",
       "      <td>NaN</td>\n",
       "      <td>NaN</td>\n",
       "      <td>NaN</td>\n",
       "      <td>NaN</td>\n",
       "      <td>NaN</td>\n",
       "      <td>NaN</td>\n",
       "      <td>NaN</td>\n",
       "      <td>NaN</td>\n",
       "      <td>NaN</td>\n",
       "    </tr>\n",
       "  </tbody>\n",
       "</table>\n",
       "<p>5 rows × 257 columns</p>\n",
       "</div>"
      ],
      "text/plain": [
       "                 hsa-mir-576  hsa-mir-200b  hsa-mir-3687  hsa-mir-126  \\\n",
       "patient_id                                                              \n",
       "TCGA-A2-A3XX-01          NaN           NaN           NaN          NaN   \n",
       "TCGA-BH-A0DI-01          NaN           NaN           NaN          NaN   \n",
       "TCGA-A7-A6VX-01          NaN           NaN           NaN          NaN   \n",
       "TCGA-BH-A0AZ-01          NaN           NaN           NaN          NaN   \n",
       "TCGA-AR-A1AX-01          NaN           NaN           NaN          NaN   \n",
       "\n",
       "                 hsa-mir-26a-2  hsa-mir-101-1  hsa-mir-218-2  hsa-mir-223  \\\n",
       "patient_id                                                                  \n",
       "TCGA-A2-A3XX-01            NaN            NaN            NaN          NaN   \n",
       "TCGA-BH-A0DI-01            NaN            NaN            NaN          NaN   \n",
       "TCGA-A7-A6VX-01            NaN            NaN            NaN          NaN   \n",
       "TCGA-BH-A0AZ-01            NaN            NaN            NaN          NaN   \n",
       "TCGA-AR-A1AX-01            NaN            NaN            NaN          NaN   \n",
       "\n",
       "                 hsa-mir-335  hsa-mir-1468  ...  hsa-mir-217  hsa-mir-424  \\\n",
       "patient_id                                  ...                             \n",
       "TCGA-A2-A3XX-01          NaN           NaN  ...          NaN          NaN   \n",
       "TCGA-BH-A0DI-01          NaN           NaN  ...          NaN          NaN   \n",
       "TCGA-A7-A6VX-01          NaN           NaN  ...          NaN          NaN   \n",
       "TCGA-BH-A0AZ-01          NaN           NaN  ...          NaN          NaN   \n",
       "TCGA-AR-A1AX-01          NaN           NaN  ...          NaN          NaN   \n",
       "\n",
       "                 hsa-mir-581  hsa-mir-483  hsa-mir-3614  hsa-mir-16-1  \\\n",
       "patient_id                                                              \n",
       "TCGA-A2-A3XX-01          NaN          NaN           NaN           NaN   \n",
       "TCGA-BH-A0DI-01          NaN          NaN           NaN           NaN   \n",
       "TCGA-A7-A6VX-01          NaN          NaN           NaN           NaN   \n",
       "TCGA-BH-A0AZ-01          NaN          NaN           NaN           NaN   \n",
       "TCGA-AR-A1AX-01          NaN          NaN           NaN           NaN   \n",
       "\n",
       "                 hsa-mir-550a-2  hsa-mir-24-1  hsa-mir-508  hsa-mir-642a  \n",
       "patient_id                                                                \n",
       "TCGA-A2-A3XX-01             NaN           NaN          NaN           NaN  \n",
       "TCGA-BH-A0DI-01             NaN           NaN          NaN           NaN  \n",
       "TCGA-A7-A6VX-01             NaN           NaN          NaN           NaN  \n",
       "TCGA-BH-A0AZ-01             NaN           NaN          NaN           NaN  \n",
       "TCGA-AR-A1AX-01             NaN           NaN          NaN           NaN  \n",
       "\n",
       "[5 rows x 257 columns]"
      ]
     },
     "execution_count": 29,
     "metadata": {},
     "output_type": "execute_result"
    }
   ],
   "source": [
    "#Keeping values for later\n",
    "from copy import deepcopy\n",
    "X_test_truth = deepcopy(X_test)\n",
    "X_val_truth = deepcopy(X_val)\n",
    "\n",
    "mask = [x==\"mirna\" for x in datatypes]\n",
    "X_test.loc[:,mask] = np.nan\n",
    "X_val.loc[:,mask] = np.nan\n",
    "\n",
    "X_test.loc[:,mask].head()"
   ]
  },
  {
   "cell_type": "markdown",
   "metadata": {},
   "source": [
    "# Simple Imputation Methods"
   ]
  },
  {
   "cell_type": "code",
   "execution_count": 30,
   "metadata": {
    "scrolled": true
   },
   "outputs": [
    {
     "name": "stdout",
     "output_type": "stream",
     "text": [
      "(372, 2257)\n",
      "(125, 2257)\n",
      "(497, 2257)\n"
     ]
    },
    {
     "data": {
      "text/html": [
       "<div>\n",
       "<style scoped>\n",
       "    .dataframe tbody tr th:only-of-type {\n",
       "        vertical-align: middle;\n",
       "    }\n",
       "\n",
       "    .dataframe tbody tr th {\n",
       "        vertical-align: top;\n",
       "    }\n",
       "\n",
       "    .dataframe thead th {\n",
       "        text-align: right;\n",
       "    }\n",
       "</style>\n",
       "<table border=\"1\" class=\"dataframe\">\n",
       "  <thead>\n",
       "    <tr style=\"text-align: right;\">\n",
       "      <th></th>\n",
       "      <th>hsa-mir-576</th>\n",
       "      <th>hsa-mir-200b</th>\n",
       "      <th>hsa-mir-3687</th>\n",
       "      <th>hsa-mir-126</th>\n",
       "      <th>hsa-mir-26a-2</th>\n",
       "      <th>hsa-mir-101-1</th>\n",
       "      <th>hsa-mir-218-2</th>\n",
       "      <th>hsa-mir-223</th>\n",
       "      <th>hsa-mir-335</th>\n",
       "      <th>hsa-mir-1468</th>\n",
       "      <th>...</th>\n",
       "      <th>hsa-mir-217</th>\n",
       "      <th>hsa-mir-424</th>\n",
       "      <th>hsa-mir-581</th>\n",
       "      <th>hsa-mir-483</th>\n",
       "      <th>hsa-mir-3614</th>\n",
       "      <th>hsa-mir-16-1</th>\n",
       "      <th>hsa-mir-550a-2</th>\n",
       "      <th>hsa-mir-24-1</th>\n",
       "      <th>hsa-mir-508</th>\n",
       "      <th>hsa-mir-642a</th>\n",
       "    </tr>\n",
       "    <tr>\n",
       "      <th>patient_id</th>\n",
       "      <th></th>\n",
       "      <th></th>\n",
       "      <th></th>\n",
       "      <th></th>\n",
       "      <th></th>\n",
       "      <th></th>\n",
       "      <th></th>\n",
       "      <th></th>\n",
       "      <th></th>\n",
       "      <th></th>\n",
       "      <th></th>\n",
       "      <th></th>\n",
       "      <th></th>\n",
       "      <th></th>\n",
       "      <th></th>\n",
       "      <th></th>\n",
       "      <th></th>\n",
       "      <th></th>\n",
       "      <th></th>\n",
       "      <th></th>\n",
       "      <th></th>\n",
       "    </tr>\n",
       "  </thead>\n",
       "  <tbody>\n",
       "    <tr>\n",
       "      <th>TCGA-D8-A1JB-01</th>\n",
       "      <td>0.079457</td>\n",
       "      <td>0.046150</td>\n",
       "      <td>0.008850</td>\n",
       "      <td>0.152926</td>\n",
       "      <td>0.099120</td>\n",
       "      <td>0.103930</td>\n",
       "      <td>0.080421</td>\n",
       "      <td>0.056304</td>\n",
       "      <td>0.022416</td>\n",
       "      <td>0.021445</td>\n",
       "      <td>...</td>\n",
       "      <td>0.000965</td>\n",
       "      <td>0.101410</td>\n",
       "      <td>0.0000</td>\n",
       "      <td>0.007236</td>\n",
       "      <td>0.002022</td>\n",
       "      <td>0.022180</td>\n",
       "      <td>0.033766</td>\n",
       "      <td>0.055666</td>\n",
       "      <td>0.006146</td>\n",
       "      <td>0.005172</td>\n",
       "    </tr>\n",
       "    <tr>\n",
       "      <th>TCGA-D8-A1JL-01</th>\n",
       "      <td>0.110465</td>\n",
       "      <td>0.138854</td>\n",
       "      <td>0.017699</td>\n",
       "      <td>0.097901</td>\n",
       "      <td>0.139139</td>\n",
       "      <td>0.027866</td>\n",
       "      <td>0.097684</td>\n",
       "      <td>0.076584</td>\n",
       "      <td>0.062983</td>\n",
       "      <td>0.020316</td>\n",
       "      <td>...</td>\n",
       "      <td>0.115024</td>\n",
       "      <td>0.202149</td>\n",
       "      <td>0.5625</td>\n",
       "      <td>0.000250</td>\n",
       "      <td>0.020218</td>\n",
       "      <td>0.083382</td>\n",
       "      <td>0.033766</td>\n",
       "      <td>0.236581</td>\n",
       "      <td>0.003688</td>\n",
       "      <td>0.008621</td>\n",
       "    </tr>\n",
       "    <tr>\n",
       "      <th>TCGA-EW-A2FS-01</th>\n",
       "      <td>NaN</td>\n",
       "      <td>NaN</td>\n",
       "      <td>NaN</td>\n",
       "      <td>NaN</td>\n",
       "      <td>NaN</td>\n",
       "      <td>NaN</td>\n",
       "      <td>NaN</td>\n",
       "      <td>NaN</td>\n",
       "      <td>NaN</td>\n",
       "      <td>NaN</td>\n",
       "      <td>...</td>\n",
       "      <td>NaN</td>\n",
       "      <td>NaN</td>\n",
       "      <td>NaN</td>\n",
       "      <td>NaN</td>\n",
       "      <td>NaN</td>\n",
       "      <td>NaN</td>\n",
       "      <td>NaN</td>\n",
       "      <td>NaN</td>\n",
       "      <td>NaN</td>\n",
       "      <td>NaN</td>\n",
       "    </tr>\n",
       "    <tr>\n",
       "      <th>TCGA-BH-A8FZ-01</th>\n",
       "      <td>NaN</td>\n",
       "      <td>NaN</td>\n",
       "      <td>NaN</td>\n",
       "      <td>NaN</td>\n",
       "      <td>NaN</td>\n",
       "      <td>NaN</td>\n",
       "      <td>NaN</td>\n",
       "      <td>NaN</td>\n",
       "      <td>NaN</td>\n",
       "      <td>NaN</td>\n",
       "      <td>...</td>\n",
       "      <td>NaN</td>\n",
       "      <td>NaN</td>\n",
       "      <td>NaN</td>\n",
       "      <td>NaN</td>\n",
       "      <td>NaN</td>\n",
       "      <td>NaN</td>\n",
       "      <td>NaN</td>\n",
       "      <td>NaN</td>\n",
       "      <td>NaN</td>\n",
       "      <td>NaN</td>\n",
       "    </tr>\n",
       "    <tr>\n",
       "      <th>TCGA-D8-A1XG-01</th>\n",
       "      <td>NaN</td>\n",
       "      <td>NaN</td>\n",
       "      <td>NaN</td>\n",
       "      <td>NaN</td>\n",
       "      <td>NaN</td>\n",
       "      <td>NaN</td>\n",
       "      <td>NaN</td>\n",
       "      <td>NaN</td>\n",
       "      <td>NaN</td>\n",
       "      <td>NaN</td>\n",
       "      <td>...</td>\n",
       "      <td>NaN</td>\n",
       "      <td>NaN</td>\n",
       "      <td>NaN</td>\n",
       "      <td>NaN</td>\n",
       "      <td>NaN</td>\n",
       "      <td>NaN</td>\n",
       "      <td>NaN</td>\n",
       "      <td>NaN</td>\n",
       "      <td>NaN</td>\n",
       "      <td>NaN</td>\n",
       "    </tr>\n",
       "  </tbody>\n",
       "</table>\n",
       "<p>5 rows × 257 columns</p>\n",
       "</div>"
      ],
      "text/plain": [
       "                 hsa-mir-576  hsa-mir-200b  hsa-mir-3687  hsa-mir-126  \\\n",
       "patient_id                                                              \n",
       "TCGA-D8-A1JB-01     0.079457      0.046150      0.008850     0.152926   \n",
       "TCGA-D8-A1JL-01     0.110465      0.138854      0.017699     0.097901   \n",
       "TCGA-EW-A2FS-01          NaN           NaN           NaN          NaN   \n",
       "TCGA-BH-A8FZ-01          NaN           NaN           NaN          NaN   \n",
       "TCGA-D8-A1XG-01          NaN           NaN           NaN          NaN   \n",
       "\n",
       "                 hsa-mir-26a-2  hsa-mir-101-1  hsa-mir-218-2  hsa-mir-223  \\\n",
       "patient_id                                                                  \n",
       "TCGA-D8-A1JB-01       0.099120       0.103930       0.080421     0.056304   \n",
       "TCGA-D8-A1JL-01       0.139139       0.027866       0.097684     0.076584   \n",
       "TCGA-EW-A2FS-01            NaN            NaN            NaN          NaN   \n",
       "TCGA-BH-A8FZ-01            NaN            NaN            NaN          NaN   \n",
       "TCGA-D8-A1XG-01            NaN            NaN            NaN          NaN   \n",
       "\n",
       "                 hsa-mir-335  hsa-mir-1468  ...  hsa-mir-217  hsa-mir-424  \\\n",
       "patient_id                                  ...                             \n",
       "TCGA-D8-A1JB-01     0.022416      0.021445  ...     0.000965     0.101410   \n",
       "TCGA-D8-A1JL-01     0.062983      0.020316  ...     0.115024     0.202149   \n",
       "TCGA-EW-A2FS-01          NaN           NaN  ...          NaN          NaN   \n",
       "TCGA-BH-A8FZ-01          NaN           NaN  ...          NaN          NaN   \n",
       "TCGA-D8-A1XG-01          NaN           NaN  ...          NaN          NaN   \n",
       "\n",
       "                 hsa-mir-581  hsa-mir-483  hsa-mir-3614  hsa-mir-16-1  \\\n",
       "patient_id                                                              \n",
       "TCGA-D8-A1JB-01       0.0000     0.007236      0.002022      0.022180   \n",
       "TCGA-D8-A1JL-01       0.5625     0.000250      0.020218      0.083382   \n",
       "TCGA-EW-A2FS-01          NaN          NaN           NaN           NaN   \n",
       "TCGA-BH-A8FZ-01          NaN          NaN           NaN           NaN   \n",
       "TCGA-D8-A1XG-01          NaN          NaN           NaN           NaN   \n",
       "\n",
       "                 hsa-mir-550a-2  hsa-mir-24-1  hsa-mir-508  hsa-mir-642a  \n",
       "patient_id                                                                \n",
       "TCGA-D8-A1JB-01        0.033766      0.055666     0.006146      0.005172  \n",
       "TCGA-D8-A1JL-01        0.033766      0.236581     0.003688      0.008621  \n",
       "TCGA-EW-A2FS-01             NaN           NaN          NaN           NaN  \n",
       "TCGA-BH-A8FZ-01             NaN           NaN          NaN           NaN  \n",
       "TCGA-D8-A1XG-01             NaN           NaN          NaN           NaN  \n",
       "\n",
       "[5 rows x 257 columns]"
      ]
     },
     "execution_count": 30,
     "metadata": {},
     "output_type": "execute_result"
    }
   ],
   "source": [
    "from sklearn.impute import SimpleImputer\n",
    "\n",
    "#Combining the train and test samples into one dataframe.\n",
    "print(X_train.shape)\n",
    "print(X_val.shape)\n",
    "X = pd.concat([X_train, X_val])\n",
    "print(X.shape)\n",
    "X.iloc[370:375, mask]"
   ]
  },
  {
   "cell_type": "markdown",
   "metadata": {},
   "source": [
    "## Imputing with Mean and Median"
   ]
  },
  {
   "cell_type": "markdown",
   "metadata": {},
   "source": [
    "### Imputing with Mean"
   ]
  },
  {
   "cell_type": "code",
   "execution_count": 31,
   "metadata": {},
   "outputs": [],
   "source": [
    "imp = SimpleImputer(missing_values=np.nan, strategy='mean')\n",
    "imp.fit(X_train)\n",
    "\n",
    "mean_imputed = imp.transform(X_val)\n",
    "# SimpleImputers returns a numpy.ndarray\n",
    "# I will convert it to a pandas data frame\n",
    "#mean_imputed = pd.DataFrame(mean_imputed, columns = X_val.columns, index = X_val.index)\n",
    "\n",
    "\n",
    "#print(mean_imputed.shape)\n",
    "#mask = [x==\"mirna\" for x in datatypes]\n",
    "#mean_imputed.loc[:,mask].head()"
   ]
  },
  {
   "cell_type": "markdown",
   "metadata": {},
   "source": [
    "### Imputing with Median"
   ]
  },
  {
   "cell_type": "code",
   "execution_count": 32,
   "metadata": {},
   "outputs": [],
   "source": [
    "imp = SimpleImputer(missing_values=np.nan, strategy='median')\n",
    "imp.fit(X_train)\n",
    "\n",
    "median_imputed = imp.transform(X_val)\n",
    "#median_imputed = pd.DataFrame(median_imputed, columns = X_val.columns, index = X_val.index)\n",
    "\n",
    "#print(median_imputed.shape)\n",
    "#mask = [x==\"mirna\" for x in datatypes]\n",
    "#median_imputed.loc[:,mask].head()"
   ]
  },
  {
   "cell_type": "code",
   "execution_count": 33,
   "metadata": {},
   "outputs": [
    {
     "name": "stdout",
     "output_type": "stream",
     "text": [
      "0.0\n",
      "7.255257410410361\n",
      "1.3514235544024777\n",
      "1.382975035923613\n"
     ]
    }
   ],
   "source": [
    "mask = [x==\"mirna\" for x in datatypes]\n",
    "truth = X_val_truth.loc[:,mask].to_numpy()\n",
    "random = (np.random.rand(truth.shape[0],truth.shape[1]))# - np.mean(truth))/np.std(truth)\n",
    "\n",
    "print(nrmse(truth, truth))\n",
    "print(nrmse(truth, random))\n",
    "print(nrmse(truth, mean_imputed[:,mask]))\n",
    "print(nrmse(truth, median_imputed[:,mask]))"
   ]
  },
  {
   "cell_type": "markdown",
   "metadata": {},
   "source": [
    "# Slightly More Complicated Methods"
   ]
  },
  {
   "cell_type": "code",
   "execution_count": 12,
   "metadata": {},
   "outputs": [],
   "source": [
    "from sklearn.experimental import enable_iterative_imputer\n",
    "from sklearn.impute import IterativeImputer"
   ]
  },
  {
   "cell_type": "markdown",
   "metadata": {},
   "source": [
    "Here, initially, all the missing features are replaced with the mean value. Then, iteratively, the estimator is used to estimate the missing value from all the other features. Within each iteration through all the missing values, the features are imputed in a random order."
   ]
  },
  {
   "cell_type": "markdown",
   "metadata": {},
   "source": [
    "## Estimator: ElasticNet"
   ]
  },
  {
   "cell_type": "markdown",
   "metadata": {},
   "source": [
    "#### L1 Ratio = 0.2"
   ]
  },
  {
   "cell_type": "code",
   "execution_count": 34,
   "metadata": {},
   "outputs": [],
   "source": [
    "from sklearn.linear_model import ElasticNet\n",
    "\n",
    "imp = IterativeImputer(estimator = ElasticNet(l1_ratio = 0.2), initial_strategy = \"mean\", \n",
    "                       imputation_order = \"random\", random_state = 42,\n",
    "                      n_nearest_features = 50)\n",
    "imp.fit(X_train)\n",
    "\n",
    "elasticnet_l2_imputed = imp.transform(X_val)\n",
    "#elasticnet_l2_imputed = pd.DataFrame(elasticnet_l2_imputed, columns = X_val.columns, index = X_val.index)\n",
    "#print(elasticnet_l2_imputed.shape)\n",
    "#mask = [x==\"mirna\" for x in datatypes]\n",
    "#elasticnet_l2_imputed.loc[:,mask].head()"
   ]
  },
  {
   "cell_type": "markdown",
   "metadata": {},
   "source": [
    "#### L1 Ratio = 0.8"
   ]
  },
  {
   "cell_type": "code",
   "execution_count": 35,
   "metadata": {},
   "outputs": [],
   "source": [
    "from sklearn.linear_model import ElasticNet\n",
    "\n",
    "imp = IterativeImputer(estimator = ElasticNet(l1_ratio = 0.75), initial_strategy = \"mean\", \n",
    "                       imputation_order = \"random\", random_state = 42,\n",
    "                      n_nearest_features = 50)\n",
    "imp.fit(X_train)\n",
    "\n",
    "elasticnet_l1_imputed = imp.transform(X_val)\n",
    "#elasticnet_l1_imputed = pd.DataFrame(elasticnet_l1_imputed, columns = X_val.columns, index = X_val.index)\n",
    "#print(elasticnet_l1_imputed.shape)\n",
    "#mask = [x==\"mirna\" for x in datatypes]\n",
    "#elasticnet_l1_imputed.loc[:,mask].head()"
   ]
  },
  {
   "cell_type": "code",
   "execution_count": 36,
   "metadata": {},
   "outputs": [
    {
     "name": "stdout",
     "output_type": "stream",
     "text": [
      "1.3514235544024777\n",
      "1.3514235544024777\n",
      "1.3514235544024777\n"
     ]
    }
   ],
   "source": [
    "print(nrmse(truth, mean_imputed[:,mask]))\n",
    "print(nrmse(truth, elasticnet_l1_imputed[:,mask]))\n",
    "print(nrmse(truth, elasticnet_l2_imputed[:,mask]))"
   ]
  },
  {
   "cell_type": "markdown",
   "metadata": {},
   "source": [
    "## Estimator: KNeighborsRegressor"
   ]
  },
  {
   "cell_type": "markdown",
   "metadata": {},
   "source": [
    "#### K = 25"
   ]
  },
  {
   "cell_type": "code",
   "execution_count": 37,
   "metadata": {},
   "outputs": [],
   "source": [
    "from sklearn.neighbors import KNeighborsRegressor\n",
    "\n",
    "imp = IterativeImputer(estimator = KNeighborsRegressor(n_neighbors=25), \n",
    "                       initial_strategy = \"mean\", imputation_order = \"random\", random_state = 42,\n",
    "                      n_nearest_features = 25)\n",
    "imp.fit(X_train)\n",
    "\n",
    "knn25_iter_imputed = imp.transform(X_val)"
   ]
  },
  {
   "cell_type": "markdown",
   "metadata": {},
   "source": [
    "#### K = 50"
   ]
  },
  {
   "cell_type": "code",
   "execution_count": 38,
   "metadata": {},
   "outputs": [],
   "source": [
    "from sklearn.neighbors import KNeighborsRegressor\n",
    "\n",
    "imp = IterativeImputer(estimator = KNeighborsRegressor(n_neighbors=50), \n",
    "                       initial_strategy = \"mean\", imputation_order = \"random\", random_state = 42,\n",
    "                      n_nearest_features = 50)\n",
    "imp.fit(X_train)\n",
    "\n",
    "knn50_iter_imputed = imp.transform(X_val)"
   ]
  },
  {
   "cell_type": "markdown",
   "metadata": {},
   "source": [
    "#### K = 75"
   ]
  },
  {
   "cell_type": "code",
   "execution_count": 39,
   "metadata": {},
   "outputs": [],
   "source": [
    "from sklearn.neighbors import KNeighborsRegressor\n",
    "\n",
    "imp = IterativeImputer(estimator = KNeighborsRegressor(n_neighbors=75), \n",
    "                       initial_strategy = \"mean\", imputation_order = \"random\", random_state = 42,\n",
    "                      n_nearest_features = 75)\n",
    "imp.fit(X_train)\n",
    "\n",
    "knn75_iter_imputed = imp.transform(X_val)"
   ]
  },
  {
   "cell_type": "markdown",
   "metadata": {},
   "source": [
    "#### K = 100"
   ]
  },
  {
   "cell_type": "code",
   "execution_count": 40,
   "metadata": {},
   "outputs": [],
   "source": [
    "from sklearn.neighbors import KNeighborsRegressor\n",
    "\n",
    "imp = IterativeImputer(estimator = KNeighborsRegressor(n_neighbors=100), \n",
    "                       initial_strategy = \"mean\", imputation_order = \"random\", random_state = 42,\n",
    "                      n_nearest_features = 100)\n",
    "imp.fit(X_train)\n",
    "\n",
    "knn100_iter_imputed = imp.transform(X_val)"
   ]
  },
  {
   "cell_type": "code",
   "execution_count": 41,
   "metadata": {},
   "outputs": [
    {
     "name": "stdout",
     "output_type": "stream",
     "text": [
      "1.3514235544024777\n",
      "1.3373409744512563\n",
      "1.3343264166172606\n",
      "1.3348114622116865\n",
      "1.3341838757891817\n"
     ]
    }
   ],
   "source": [
    "print(nrmse(truth, mean_imputed[:,mask]))\n",
    "print(nrmse(truth, knn25_iter_imputed[:,mask]))\n",
    "print(nrmse(truth, knn50_iter_imputed[:,mask]))\n",
    "print(nrmse(truth, knn75_iter_imputed[:,mask]))\n",
    "print(nrmse(truth, knn100_iter_imputed[:,mask]))"
   ]
  },
  {
   "cell_type": "markdown",
   "metadata": {},
   "source": [
    "## Estimator: RandomForestRegressor"
   ]
  },
  {
   "cell_type": "markdown",
   "metadata": {},
   "source": [
    "#### Max Depth = 10"
   ]
  },
  {
   "cell_type": "code",
   "execution_count": 11,
   "metadata": {},
   "outputs": [],
   "source": [
    "from sklearn.ensemble import RandomForestRegressor\n",
    "\n",
    "imp = IterativeImputer(estimator = RandomForestRegressor(max_depth=10), \n",
    "                       initial_strategy = \"mean\", imputation_order = \"random\", random_state = 42,\n",
    "                      n_nearest_features = 200)\n",
    "imp.fit(X_train)\n",
    "\n",
    "rf10_imputed = imp.transform(X_val)"
   ]
  },
  {
   "cell_type": "markdown",
   "metadata": {},
   "source": [
    "#### Max Depth = 20"
   ]
  },
  {
   "cell_type": "code",
   "execution_count": 12,
   "metadata": {},
   "outputs": [],
   "source": [
    "from sklearn.ensemble import RandomForestRegressor\n",
    "\n",
    "imp = IterativeImputer(estimator = RandomForestRegressor(max_depth=20), \n",
    "                       initial_strategy = \"mean\", imputation_order = \"random\", random_state = 42,\n",
    "                      n_nearest_features = 200)\n",
    "imp.fit(X_train)\n",
    "\n",
    "rf20_imputed = imp.transform(X_val)"
   ]
  },
  {
   "cell_type": "code",
   "execution_count": 13,
   "metadata": {},
   "outputs": [
    {
     "name": "stdout",
     "output_type": "stream",
     "text": [
      "1.3514235544024777\n",
      "1.3526947398648599\n",
      "1.353721124349755\n"
     ]
    }
   ],
   "source": [
    "print(nrmse(truth, mean_imputed[:,mask]))\n",
    "print(nrmse(truth, rf10_imputed[:,mask]))\n",
    "print(nrmse(truth, rf20_imputed[:,mask]))"
   ]
  },
  {
   "cell_type": "markdown",
   "metadata": {},
   "source": [
    "# Deck Imputation"
   ]
  },
  {
   "cell_type": "markdown",
   "metadata": {},
   "source": [
    "It is not exactly deck imputation in that we are not replacing the missing value with a value from the existing set. Here, I select the k closest samples and get the average of their values to impute the missing values.\n",
    "\n",
    "I am testing kNN with k values equal to all odd numbers between 0 and 20."
   ]
  },
  {
   "cell_type": "code",
   "execution_count": 42,
   "metadata": {},
   "outputs": [
    {
     "name": "stdout",
     "output_type": "stream",
     "text": [
      "13\n"
     ]
    }
   ],
   "source": [
    "from sklearn.impute import KNNImputer\n",
    "\n",
    "knn = {}\n",
    "\n",
    "for i in [1,5,10,15,20,25,30,35,40,45,50,75,100]:\n",
    "    imputer = KNNImputer(n_neighbors=i)\n",
    "    imputer.fit(X_train)\n",
    "\n",
    "    knn[i] = imputer.transform(X_val)\n",
    "    #knn[i] = pd.DataFrame(knn[i], columns = X_val.columns, index = X_val.index)\n",
    "\n",
    "print(len(knn))\n",
    "#print(knn[1].shape)\n",
    "#mask = [x==\"mirna\" for x in datatypes]\n",
    "#knn[1].loc[:,mask].head()"
   ]
  },
  {
   "cell_type": "code",
   "execution_count": 43,
   "metadata": {},
   "outputs": [
    {
     "name": "stdout",
     "output_type": "stream",
     "text": [
      "1.3514235544024777\n",
      "1.8065944840222157\n",
      "1.4431974817135849\n",
      "1.3911630424398238\n",
      "1.3747116272019078\n",
      "1.3675897649810775\n",
      "1.3579528416185302\n",
      "1.3511837927083556\n",
      "1.3507181123020544\n",
      "1.352475771203293\n",
      "1.3481180608253138\n",
      "1.3463990074696408\n",
      "1.3468734174741535\n",
      "1.3466326773661295\n"
     ]
    }
   ],
   "source": [
    "print(nrmse(truth, mean_imputed[:,mask]))\n",
    "for each in knn.values():\n",
    "    print(nrmse(truth, each[:,mask]))"
   ]
  },
  {
   "cell_type": "markdown",
   "metadata": {},
   "source": [
    "# Comparing Imputation Methods"
   ]
  },
  {
   "cell_type": "markdown",
   "metadata": {},
   "source": [
    "To compare the imputation methods, we first need to quantify them. Here, I am going to use the Normalized Root Mean Squared Error (NRMSE) to quantify each of the methods and then compare them.\n",
    "\n",
    "< Insert NRMSE formula in latex >"
   ]
  }
 ],
 "metadata": {
  "kernelspec": {
   "display_name": "Python 3",
   "language": "python",
   "name": "python3"
  },
  "language_info": {
   "codemirror_mode": {
    "name": "ipython",
    "version": 3
   },
   "file_extension": ".py",
   "mimetype": "text/x-python",
   "name": "python",
   "nbconvert_exporter": "python",
   "pygments_lexer": "ipython3",
   "version": "3.7.3"
  }
 },
 "nbformat": 4,
 "nbformat_minor": 2
}
