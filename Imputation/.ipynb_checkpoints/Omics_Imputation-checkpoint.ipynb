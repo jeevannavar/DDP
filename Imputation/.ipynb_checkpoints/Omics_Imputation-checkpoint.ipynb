{
 "cells": [
  {
   "cell_type": "markdown",
   "metadata": {},
   "source": [
    "# Multi-Omics Imputation\n",
    "\n",
    "The plan is to do the following:\n",
    "- Divide the data into train, validation, and test sets. Leave the test set for later.\n",
    "- Remove the values for a certain omics type from the validation set\n",
    "- Impute using the train set and the remaining value in the validation set\n",
    "- Compare these imputed values against the true values\n",
    "    - Distribution of correlation coefficients\n",
    "    - Get the mean and stdev of the correlation coefficients\n",
    "    - Choose best model\n",
    "- Evaluate on test set\n",
    "- Choose best method\n",
    "- Try on independent set\n",
    "- Finally, train GCN model and see difference between single omics, multi-omics, and imputed multi-omics\n",
    "\n",
    "I'll first start with some basics: data import and processing.\n",
    "Then I'll move to imputing one omics from two.\n",
    "Then I'll move to imputing two omics from one.\n",
    "I'll do all the steps above along the way."
   ]
  },
  {
   "cell_type": "markdown",
   "metadata": {},
   "source": [
    "## Importing requisite packages"
   ]
  },
  {
   "cell_type": "code",
   "execution_count": 1,
   "metadata": {},
   "outputs": [],
   "source": [
    "import numpy as np\n",
    "import pandas as pd\n",
    "import matplotlib.pyplot as plt\n",
    "from sklearn.model_selection import train_test_split\n",
    "from metrics import *"
   ]
  },
  {
   "cell_type": "markdown",
   "metadata": {},
   "source": [
    "## Importing data"
   ]
  },
  {
   "cell_type": "code",
   "execution_count": 2,
   "metadata": {},
   "outputs": [],
   "source": [
    "mrna = pd.read_csv(\"../R/TCGA BRCA/mrna_top1000.csv\", index_col=0)\n",
    "meth = pd.read_csv(\"../R/TCGA BRCA/meth_top1000.csv\", index_col=0)\n",
    "mirna = pd.read_csv(\"../R/TCGA BRCA/mirna_anova.csv\", index_col=0)\n",
    "\n",
    "labels = pd.read_csv(\"../R/TCGA BRCA/PAM50_subtype.csv\", index_col=0)"
   ]
  },
  {
   "cell_type": "markdown",
   "metadata": {},
   "source": [
    "## Basic Data Processing"
   ]
  },
  {
   "cell_type": "markdown",
   "metadata": {},
   "source": [
    "Just combining all data and then also having a list containing what datatype the columns belong to."
   ]
  },
  {
   "cell_type": "code",
   "execution_count": 3,
   "metadata": {},
   "outputs": [],
   "source": [
    "all_data = pd.merge(pd.merge(mrna, meth, left_index=True, right_index=True), mirna,  left_index=True, right_index=True)\n",
    "\n",
    "datatypes = [\"mrna\"]*mrna.shape[1] + [\"meth\"]*meth.shape[1] + [\"mirna\"]*mirna.shape[1]"
   ]
  },
  {
   "cell_type": "code",
   "execution_count": 4,
   "metadata": {
    "scrolled": false
   },
   "outputs": [
    {
     "data": {
      "text/html": [
       "<div>\n",
       "<style scoped>\n",
       "    .dataframe tbody tr th:only-of-type {\n",
       "        vertical-align: middle;\n",
       "    }\n",
       "\n",
       "    .dataframe tbody tr th {\n",
       "        vertical-align: top;\n",
       "    }\n",
       "\n",
       "    .dataframe thead th {\n",
       "        text-align: right;\n",
       "    }\n",
       "</style>\n",
       "<table border=\"1\" class=\"dataframe\">\n",
       "  <thead>\n",
       "    <tr style=\"text-align: right;\">\n",
       "      <th></th>\n",
       "      <th>DBF4|10926</th>\n",
       "      <th>DACH1|1602</th>\n",
       "      <th>BBS4|585</th>\n",
       "      <th>L3MBTL4|91133</th>\n",
       "      <th>TK1|7083</th>\n",
       "      <th>KIAA1370|56204</th>\n",
       "      <th>GPD1L|23171</th>\n",
       "      <th>RERG|85004</th>\n",
       "      <th>RAPGEF3|10411</th>\n",
       "      <th>FBXO36|130888</th>\n",
       "      <th>...</th>\n",
       "      <th>hsa-mir-217</th>\n",
       "      <th>hsa-mir-424</th>\n",
       "      <th>hsa-mir-581</th>\n",
       "      <th>hsa-mir-483</th>\n",
       "      <th>hsa-mir-3614</th>\n",
       "      <th>hsa-mir-16-1</th>\n",
       "      <th>hsa-mir-550a-2</th>\n",
       "      <th>hsa-mir-24-1</th>\n",
       "      <th>hsa-mir-508</th>\n",
       "      <th>hsa-mir-642a</th>\n",
       "    </tr>\n",
       "    <tr>\n",
       "      <th>patient_id</th>\n",
       "      <th></th>\n",
       "      <th></th>\n",
       "      <th></th>\n",
       "      <th></th>\n",
       "      <th></th>\n",
       "      <th></th>\n",
       "      <th></th>\n",
       "      <th></th>\n",
       "      <th></th>\n",
       "      <th></th>\n",
       "      <th></th>\n",
       "      <th></th>\n",
       "      <th></th>\n",
       "      <th></th>\n",
       "      <th></th>\n",
       "      <th></th>\n",
       "      <th></th>\n",
       "      <th></th>\n",
       "      <th></th>\n",
       "      <th></th>\n",
       "      <th></th>\n",
       "    </tr>\n",
       "  </thead>\n",
       "  <tbody>\n",
       "    <tr>\n",
       "      <th>TCGA-D8-A1XU-01</th>\n",
       "      <td>0.277770</td>\n",
       "      <td>0.758159</td>\n",
       "      <td>0.378836</td>\n",
       "      <td>0.356571</td>\n",
       "      <td>0.434890</td>\n",
       "      <td>0.554010</td>\n",
       "      <td>0.492860</td>\n",
       "      <td>0.812734</td>\n",
       "      <td>0.599057</td>\n",
       "      <td>0.787462</td>\n",
       "      <td>...</td>\n",
       "      <td>0.004411</td>\n",
       "      <td>0.078464</td>\n",
       "      <td>0.3125</td>\n",
       "      <td>0.002911</td>\n",
       "      <td>0.001617</td>\n",
       "      <td>0.059937</td>\n",
       "      <td>0.046753</td>\n",
       "      <td>0.256461</td>\n",
       "      <td>0.010449</td>\n",
       "      <td>0.070690</td>\n",
       "    </tr>\n",
       "    <tr>\n",
       "      <th>TCGA-D8-A1XV-01</th>\n",
       "      <td>0.513189</td>\n",
       "      <td>0.830736</td>\n",
       "      <td>0.648579</td>\n",
       "      <td>0.674419</td>\n",
       "      <td>0.566643</td>\n",
       "      <td>0.889481</td>\n",
       "      <td>0.607707</td>\n",
       "      <td>0.797190</td>\n",
       "      <td>0.454187</td>\n",
       "      <td>0.844195</td>\n",
       "      <td>...</td>\n",
       "      <td>0.003170</td>\n",
       "      <td>0.012424</td>\n",
       "      <td>0.1250</td>\n",
       "      <td>0.000333</td>\n",
       "      <td>0.002426</td>\n",
       "      <td>0.082900</td>\n",
       "      <td>0.038961</td>\n",
       "      <td>0.037773</td>\n",
       "      <td>0.003380</td>\n",
       "      <td>0.032759</td>\n",
       "    </tr>\n",
       "    <tr>\n",
       "      <th>TCGA-E9-A1N3-01</th>\n",
       "      <td>0.509665</td>\n",
       "      <td>1.000000</td>\n",
       "      <td>0.553200</td>\n",
       "      <td>0.152295</td>\n",
       "      <td>0.632370</td>\n",
       "      <td>0.669888</td>\n",
       "      <td>0.497003</td>\n",
       "      <td>0.789170</td>\n",
       "      <td>0.553367</td>\n",
       "      <td>0.915498</td>\n",
       "      <td>...</td>\n",
       "      <td>0.003446</td>\n",
       "      <td>0.044661</td>\n",
       "      <td>0.6875</td>\n",
       "      <td>0.000832</td>\n",
       "      <td>0.002426</td>\n",
       "      <td>0.063510</td>\n",
       "      <td>0.049351</td>\n",
       "      <td>0.093439</td>\n",
       "      <td>0.053473</td>\n",
       "      <td>0.110345</td>\n",
       "    </tr>\n",
       "    <tr>\n",
       "      <th>TCGA-C8-A1HE-01</th>\n",
       "      <td>0.362294</td>\n",
       "      <td>0.879097</td>\n",
       "      <td>0.601582</td>\n",
       "      <td>0.283353</td>\n",
       "      <td>0.540255</td>\n",
       "      <td>0.786171</td>\n",
       "      <td>0.813419</td>\n",
       "      <td>0.758284</td>\n",
       "      <td>0.668789</td>\n",
       "      <td>0.885250</td>\n",
       "      <td>...</td>\n",
       "      <td>0.001792</td>\n",
       "      <td>0.057869</td>\n",
       "      <td>0.1250</td>\n",
       "      <td>0.001248</td>\n",
       "      <td>0.004448</td>\n",
       "      <td>0.066019</td>\n",
       "      <td>0.007792</td>\n",
       "      <td>0.041750</td>\n",
       "      <td>0.001537</td>\n",
       "      <td>0.044828</td>\n",
       "    </tr>\n",
       "    <tr>\n",
       "      <th>TCGA-A1-A0SQ-01</th>\n",
       "      <td>0.429836</td>\n",
       "      <td>0.693130</td>\n",
       "      <td>0.505465</td>\n",
       "      <td>0.292312</td>\n",
       "      <td>0.608069</td>\n",
       "      <td>0.628752</td>\n",
       "      <td>0.616969</td>\n",
       "      <td>0.737191</td>\n",
       "      <td>0.509752</td>\n",
       "      <td>0.708378</td>\n",
       "      <td>...</td>\n",
       "      <td>0.001103</td>\n",
       "      <td>0.005261</td>\n",
       "      <td>0.0625</td>\n",
       "      <td>0.000083</td>\n",
       "      <td>0.003235</td>\n",
       "      <td>0.010478</td>\n",
       "      <td>0.005195</td>\n",
       "      <td>0.009940</td>\n",
       "      <td>0.000615</td>\n",
       "      <td>0.155172</td>\n",
       "    </tr>\n",
       "  </tbody>\n",
       "</table>\n",
       "<p>5 rows × 2257 columns</p>\n",
       "</div>"
      ],
      "text/plain": [
       "                 DBF4|10926  DACH1|1602  BBS4|585  L3MBTL4|91133  TK1|7083  \\\n",
       "patient_id                                                                   \n",
       "TCGA-D8-A1XU-01    0.277770    0.758159  0.378836       0.356571  0.434890   \n",
       "TCGA-D8-A1XV-01    0.513189    0.830736  0.648579       0.674419  0.566643   \n",
       "TCGA-E9-A1N3-01    0.509665    1.000000  0.553200       0.152295  0.632370   \n",
       "TCGA-C8-A1HE-01    0.362294    0.879097  0.601582       0.283353  0.540255   \n",
       "TCGA-A1-A0SQ-01    0.429836    0.693130  0.505465       0.292312  0.608069   \n",
       "\n",
       "                 KIAA1370|56204  GPD1L|23171  RERG|85004  RAPGEF3|10411  \\\n",
       "patient_id                                                                \n",
       "TCGA-D8-A1XU-01        0.554010     0.492860    0.812734       0.599057   \n",
       "TCGA-D8-A1XV-01        0.889481     0.607707    0.797190       0.454187   \n",
       "TCGA-E9-A1N3-01        0.669888     0.497003    0.789170       0.553367   \n",
       "TCGA-C8-A1HE-01        0.786171     0.813419    0.758284       0.668789   \n",
       "TCGA-A1-A0SQ-01        0.628752     0.616969    0.737191       0.509752   \n",
       "\n",
       "                 FBXO36|130888  ...  hsa-mir-217  hsa-mir-424  hsa-mir-581  \\\n",
       "patient_id                      ...                                          \n",
       "TCGA-D8-A1XU-01       0.787462  ...     0.004411     0.078464       0.3125   \n",
       "TCGA-D8-A1XV-01       0.844195  ...     0.003170     0.012424       0.1250   \n",
       "TCGA-E9-A1N3-01       0.915498  ...     0.003446     0.044661       0.6875   \n",
       "TCGA-C8-A1HE-01       0.885250  ...     0.001792     0.057869       0.1250   \n",
       "TCGA-A1-A0SQ-01       0.708378  ...     0.001103     0.005261       0.0625   \n",
       "\n",
       "                 hsa-mir-483  hsa-mir-3614  hsa-mir-16-1  hsa-mir-550a-2  \\\n",
       "patient_id                                                                 \n",
       "TCGA-D8-A1XU-01     0.002911      0.001617      0.059937        0.046753   \n",
       "TCGA-D8-A1XV-01     0.000333      0.002426      0.082900        0.038961   \n",
       "TCGA-E9-A1N3-01     0.000832      0.002426      0.063510        0.049351   \n",
       "TCGA-C8-A1HE-01     0.001248      0.004448      0.066019        0.007792   \n",
       "TCGA-A1-A0SQ-01     0.000083      0.003235      0.010478        0.005195   \n",
       "\n",
       "                 hsa-mir-24-1  hsa-mir-508  hsa-mir-642a  \n",
       "patient_id                                                \n",
       "TCGA-D8-A1XU-01      0.256461     0.010449      0.070690  \n",
       "TCGA-D8-A1XV-01      0.037773     0.003380      0.032759  \n",
       "TCGA-E9-A1N3-01      0.093439     0.053473      0.110345  \n",
       "TCGA-C8-A1HE-01      0.041750     0.001537      0.044828  \n",
       "TCGA-A1-A0SQ-01      0.009940     0.000615      0.155172  \n",
       "\n",
       "[5 rows x 2257 columns]"
      ]
     },
     "execution_count": 4,
     "metadata": {},
     "output_type": "execute_result"
    }
   ],
   "source": [
    "all_data = (all_data-all_data.min())/(all_data.max() - all_data.min())\n",
    "all_data.head()"
   ]
  },
  {
   "cell_type": "code",
   "execution_count": 5,
   "metadata": {},
   "outputs": [
    {
     "data": {
      "text/html": [
       "<div>\n",
       "<style scoped>\n",
       "    .dataframe tbody tr th:only-of-type {\n",
       "        vertical-align: middle;\n",
       "    }\n",
       "\n",
       "    .dataframe tbody tr th {\n",
       "        vertical-align: top;\n",
       "    }\n",
       "\n",
       "    .dataframe thead th {\n",
       "        text-align: right;\n",
       "    }\n",
       "</style>\n",
       "<table border=\"1\" class=\"dataframe\">\n",
       "  <thead>\n",
       "    <tr style=\"text-align: right;\">\n",
       "      <th></th>\n",
       "      <th>cancer_subtype</th>\n",
       "    </tr>\n",
       "    <tr>\n",
       "      <th>patient_id</th>\n",
       "      <th></th>\n",
       "    </tr>\n",
       "  </thead>\n",
       "  <tbody>\n",
       "    <tr>\n",
       "      <th>TCGA-D8-A1XU-01</th>\n",
       "      <td>LumA</td>\n",
       "    </tr>\n",
       "    <tr>\n",
       "      <th>TCGA-D8-A1XV-01</th>\n",
       "      <td>LumA</td>\n",
       "    </tr>\n",
       "    <tr>\n",
       "      <th>TCGA-E9-A1N3-01</th>\n",
       "      <td>LumA</td>\n",
       "    </tr>\n",
       "    <tr>\n",
       "      <th>TCGA-C8-A1HE-01</th>\n",
       "      <td>LumA</td>\n",
       "    </tr>\n",
       "    <tr>\n",
       "      <th>TCGA-A1-A0SQ-01</th>\n",
       "      <td>LumA</td>\n",
       "    </tr>\n",
       "  </tbody>\n",
       "</table>\n",
       "</div>"
      ],
      "text/plain": [
       "                cancer_subtype\n",
       "patient_id                    \n",
       "TCGA-D8-A1XU-01           LumA\n",
       "TCGA-D8-A1XV-01           LumA\n",
       "TCGA-E9-A1N3-01           LumA\n",
       "TCGA-C8-A1HE-01           LumA\n",
       "TCGA-A1-A0SQ-01           LumA"
      ]
     },
     "execution_count": 5,
     "metadata": {},
     "output_type": "execute_result"
    }
   ],
   "source": [
    "labels.head()"
   ]
  },
  {
   "cell_type": "markdown",
   "metadata": {},
   "source": [
    "Doing the train-validation-test split.\n",
    "These contain all the values intact.  \n",
    "\n",
    "Here, we do a 60-20-20 split."
   ]
  },
  {
   "cell_type": "code",
   "execution_count": 6,
   "metadata": {},
   "outputs": [
    {
     "name": "stdout",
     "output_type": "stream",
     "text": [
      "(372, 2257)\n",
      "(125, 2257)\n",
      "(125, 2257)\n",
      "(372, 1)\n",
      "(125, 1)\n",
      "(125, 1)\n"
     ]
    }
   ],
   "source": [
    "X_train, X_test, y_train, y_test = train_test_split(all_data, labels, test_size = 0.2, random_state = 42, stratify = labels)\n",
    "X_train, X_val, y_train, y_val = train_test_split(X_train, y_train, test_size = 0.25, random_state = 42, stratify = y_train)\n",
    "\n",
    "\n",
    "print(X_train.shape)\n",
    "print(X_val.shape)\n",
    "print(X_test.shape)\n",
    "print(y_train.shape)\n",
    "print(y_val.shape)\n",
    "print(y_test.shape)\n",
    "\n",
    "#all_data.head()\n",
    "#labels.head()\n",
    "#X_train.head()\n",
    "#y_train.head()"
   ]
  },
  {
   "cell_type": "markdown",
   "metadata": {},
   "source": [
    "Removing all miRNA feature values"
   ]
  },
  {
   "cell_type": "code",
   "execution_count": 7,
   "metadata": {},
   "outputs": [
    {
     "name": "stderr",
     "output_type": "stream",
     "text": [
      "/home/bs16b001/.local/lib/python3.7/site-packages/pandas/core/indexing.py:1636: SettingWithCopyWarning: \n",
      "A value is trying to be set on a copy of a slice from a DataFrame\n",
      "\n",
      "See the caveats in the documentation: https://pandas.pydata.org/pandas-docs/stable/user_guide/indexing.html#returning-a-view-versus-a-copy\n",
      "  self._setitem_single_block(indexer, value, name)\n",
      "/home/bs16b001/.local/lib/python3.7/site-packages/pandas/core/indexing.py:691: SettingWithCopyWarning: \n",
      "A value is trying to be set on a copy of a slice from a DataFrame\n",
      "\n",
      "See the caveats in the documentation: https://pandas.pydata.org/pandas-docs/stable/user_guide/indexing.html#returning-a-view-versus-a-copy\n",
      "  iloc._setitem_with_indexer(indexer, value, self.name)\n"
     ]
    },
    {
     "data": {
      "text/html": [
       "<div>\n",
       "<style scoped>\n",
       "    .dataframe tbody tr th:only-of-type {\n",
       "        vertical-align: middle;\n",
       "    }\n",
       "\n",
       "    .dataframe tbody tr th {\n",
       "        vertical-align: top;\n",
       "    }\n",
       "\n",
       "    .dataframe thead th {\n",
       "        text-align: right;\n",
       "    }\n",
       "</style>\n",
       "<table border=\"1\" class=\"dataframe\">\n",
       "  <thead>\n",
       "    <tr style=\"text-align: right;\">\n",
       "      <th></th>\n",
       "      <th>hsa-mir-576</th>\n",
       "      <th>hsa-mir-200b</th>\n",
       "      <th>hsa-mir-3687</th>\n",
       "      <th>hsa-mir-126</th>\n",
       "      <th>hsa-mir-26a-2</th>\n",
       "      <th>hsa-mir-101-1</th>\n",
       "      <th>hsa-mir-218-2</th>\n",
       "      <th>hsa-mir-223</th>\n",
       "      <th>hsa-mir-335</th>\n",
       "      <th>hsa-mir-1468</th>\n",
       "      <th>...</th>\n",
       "      <th>hsa-mir-217</th>\n",
       "      <th>hsa-mir-424</th>\n",
       "      <th>hsa-mir-581</th>\n",
       "      <th>hsa-mir-483</th>\n",
       "      <th>hsa-mir-3614</th>\n",
       "      <th>hsa-mir-16-1</th>\n",
       "      <th>hsa-mir-550a-2</th>\n",
       "      <th>hsa-mir-24-1</th>\n",
       "      <th>hsa-mir-508</th>\n",
       "      <th>hsa-mir-642a</th>\n",
       "    </tr>\n",
       "    <tr>\n",
       "      <th>patient_id</th>\n",
       "      <th></th>\n",
       "      <th></th>\n",
       "      <th></th>\n",
       "      <th></th>\n",
       "      <th></th>\n",
       "      <th></th>\n",
       "      <th></th>\n",
       "      <th></th>\n",
       "      <th></th>\n",
       "      <th></th>\n",
       "      <th></th>\n",
       "      <th></th>\n",
       "      <th></th>\n",
       "      <th></th>\n",
       "      <th></th>\n",
       "      <th></th>\n",
       "      <th></th>\n",
       "      <th></th>\n",
       "      <th></th>\n",
       "      <th></th>\n",
       "      <th></th>\n",
       "    </tr>\n",
       "  </thead>\n",
       "  <tbody>\n",
       "    <tr>\n",
       "      <th>TCGA-A2-A3XX-01</th>\n",
       "      <td>NaN</td>\n",
       "      <td>NaN</td>\n",
       "      <td>NaN</td>\n",
       "      <td>NaN</td>\n",
       "      <td>NaN</td>\n",
       "      <td>NaN</td>\n",
       "      <td>NaN</td>\n",
       "      <td>NaN</td>\n",
       "      <td>NaN</td>\n",
       "      <td>NaN</td>\n",
       "      <td>...</td>\n",
       "      <td>NaN</td>\n",
       "      <td>NaN</td>\n",
       "      <td>NaN</td>\n",
       "      <td>NaN</td>\n",
       "      <td>NaN</td>\n",
       "      <td>NaN</td>\n",
       "      <td>NaN</td>\n",
       "      <td>NaN</td>\n",
       "      <td>NaN</td>\n",
       "      <td>NaN</td>\n",
       "    </tr>\n",
       "    <tr>\n",
       "      <th>TCGA-BH-A0DI-01</th>\n",
       "      <td>NaN</td>\n",
       "      <td>NaN</td>\n",
       "      <td>NaN</td>\n",
       "      <td>NaN</td>\n",
       "      <td>NaN</td>\n",
       "      <td>NaN</td>\n",
       "      <td>NaN</td>\n",
       "      <td>NaN</td>\n",
       "      <td>NaN</td>\n",
       "      <td>NaN</td>\n",
       "      <td>...</td>\n",
       "      <td>NaN</td>\n",
       "      <td>NaN</td>\n",
       "      <td>NaN</td>\n",
       "      <td>NaN</td>\n",
       "      <td>NaN</td>\n",
       "      <td>NaN</td>\n",
       "      <td>NaN</td>\n",
       "      <td>NaN</td>\n",
       "      <td>NaN</td>\n",
       "      <td>NaN</td>\n",
       "    </tr>\n",
       "    <tr>\n",
       "      <th>TCGA-A7-A6VX-01</th>\n",
       "      <td>NaN</td>\n",
       "      <td>NaN</td>\n",
       "      <td>NaN</td>\n",
       "      <td>NaN</td>\n",
       "      <td>NaN</td>\n",
       "      <td>NaN</td>\n",
       "      <td>NaN</td>\n",
       "      <td>NaN</td>\n",
       "      <td>NaN</td>\n",
       "      <td>NaN</td>\n",
       "      <td>...</td>\n",
       "      <td>NaN</td>\n",
       "      <td>NaN</td>\n",
       "      <td>NaN</td>\n",
       "      <td>NaN</td>\n",
       "      <td>NaN</td>\n",
       "      <td>NaN</td>\n",
       "      <td>NaN</td>\n",
       "      <td>NaN</td>\n",
       "      <td>NaN</td>\n",
       "      <td>NaN</td>\n",
       "    </tr>\n",
       "    <tr>\n",
       "      <th>TCGA-BH-A0AZ-01</th>\n",
       "      <td>NaN</td>\n",
       "      <td>NaN</td>\n",
       "      <td>NaN</td>\n",
       "      <td>NaN</td>\n",
       "      <td>NaN</td>\n",
       "      <td>NaN</td>\n",
       "      <td>NaN</td>\n",
       "      <td>NaN</td>\n",
       "      <td>NaN</td>\n",
       "      <td>NaN</td>\n",
       "      <td>...</td>\n",
       "      <td>NaN</td>\n",
       "      <td>NaN</td>\n",
       "      <td>NaN</td>\n",
       "      <td>NaN</td>\n",
       "      <td>NaN</td>\n",
       "      <td>NaN</td>\n",
       "      <td>NaN</td>\n",
       "      <td>NaN</td>\n",
       "      <td>NaN</td>\n",
       "      <td>NaN</td>\n",
       "    </tr>\n",
       "    <tr>\n",
       "      <th>TCGA-AR-A1AX-01</th>\n",
       "      <td>NaN</td>\n",
       "      <td>NaN</td>\n",
       "      <td>NaN</td>\n",
       "      <td>NaN</td>\n",
       "      <td>NaN</td>\n",
       "      <td>NaN</td>\n",
       "      <td>NaN</td>\n",
       "      <td>NaN</td>\n",
       "      <td>NaN</td>\n",
       "      <td>NaN</td>\n",
       "      <td>...</td>\n",
       "      <td>NaN</td>\n",
       "      <td>NaN</td>\n",
       "      <td>NaN</td>\n",
       "      <td>NaN</td>\n",
       "      <td>NaN</td>\n",
       "      <td>NaN</td>\n",
       "      <td>NaN</td>\n",
       "      <td>NaN</td>\n",
       "      <td>NaN</td>\n",
       "      <td>NaN</td>\n",
       "    </tr>\n",
       "  </tbody>\n",
       "</table>\n",
       "<p>5 rows × 257 columns</p>\n",
       "</div>"
      ],
      "text/plain": [
       "                 hsa-mir-576  hsa-mir-200b  hsa-mir-3687  hsa-mir-126  \\\n",
       "patient_id                                                              \n",
       "TCGA-A2-A3XX-01          NaN           NaN           NaN          NaN   \n",
       "TCGA-BH-A0DI-01          NaN           NaN           NaN          NaN   \n",
       "TCGA-A7-A6VX-01          NaN           NaN           NaN          NaN   \n",
       "TCGA-BH-A0AZ-01          NaN           NaN           NaN          NaN   \n",
       "TCGA-AR-A1AX-01          NaN           NaN           NaN          NaN   \n",
       "\n",
       "                 hsa-mir-26a-2  hsa-mir-101-1  hsa-mir-218-2  hsa-mir-223  \\\n",
       "patient_id                                                                  \n",
       "TCGA-A2-A3XX-01            NaN            NaN            NaN          NaN   \n",
       "TCGA-BH-A0DI-01            NaN            NaN            NaN          NaN   \n",
       "TCGA-A7-A6VX-01            NaN            NaN            NaN          NaN   \n",
       "TCGA-BH-A0AZ-01            NaN            NaN            NaN          NaN   \n",
       "TCGA-AR-A1AX-01            NaN            NaN            NaN          NaN   \n",
       "\n",
       "                 hsa-mir-335  hsa-mir-1468  ...  hsa-mir-217  hsa-mir-424  \\\n",
       "patient_id                                  ...                             \n",
       "TCGA-A2-A3XX-01          NaN           NaN  ...          NaN          NaN   \n",
       "TCGA-BH-A0DI-01          NaN           NaN  ...          NaN          NaN   \n",
       "TCGA-A7-A6VX-01          NaN           NaN  ...          NaN          NaN   \n",
       "TCGA-BH-A0AZ-01          NaN           NaN  ...          NaN          NaN   \n",
       "TCGA-AR-A1AX-01          NaN           NaN  ...          NaN          NaN   \n",
       "\n",
       "                 hsa-mir-581  hsa-mir-483  hsa-mir-3614  hsa-mir-16-1  \\\n",
       "patient_id                                                              \n",
       "TCGA-A2-A3XX-01          NaN          NaN           NaN           NaN   \n",
       "TCGA-BH-A0DI-01          NaN          NaN           NaN           NaN   \n",
       "TCGA-A7-A6VX-01          NaN          NaN           NaN           NaN   \n",
       "TCGA-BH-A0AZ-01          NaN          NaN           NaN           NaN   \n",
       "TCGA-AR-A1AX-01          NaN          NaN           NaN           NaN   \n",
       "\n",
       "                 hsa-mir-550a-2  hsa-mir-24-1  hsa-mir-508  hsa-mir-642a  \n",
       "patient_id                                                                \n",
       "TCGA-A2-A3XX-01             NaN           NaN          NaN           NaN  \n",
       "TCGA-BH-A0DI-01             NaN           NaN          NaN           NaN  \n",
       "TCGA-A7-A6VX-01             NaN           NaN          NaN           NaN  \n",
       "TCGA-BH-A0AZ-01             NaN           NaN          NaN           NaN  \n",
       "TCGA-AR-A1AX-01             NaN           NaN          NaN           NaN  \n",
       "\n",
       "[5 rows x 257 columns]"
      ]
     },
     "execution_count": 7,
     "metadata": {},
     "output_type": "execute_result"
    }
   ],
   "source": [
    "#Keeping values for later\n",
    "from copy import deepcopy\n",
    "X_test_truth = deepcopy(X_test)\n",
    "X_val_truth = deepcopy(X_val)\n",
    "\n",
    "mask = [x==\"mirna\" for x in datatypes]\n",
    "X_test.loc[:,mask] = np.nan\n",
    "X_val.loc[:,mask] = np.nan\n",
    "\n",
    "X_test.loc[:,mask].head()"
   ]
  },
  {
   "cell_type": "markdown",
   "metadata": {},
   "source": [
    "# Simple Imputation Methods"
   ]
  },
  {
   "cell_type": "code",
   "execution_count": 12,
   "metadata": {
    "scrolled": true
   },
   "outputs": [
    {
     "name": "stdout",
     "output_type": "stream",
     "text": [
      "(372, 2257)\n",
      "(125, 2257)\n",
      "(497, 2257)\n"
     ]
    },
    {
     "data": {
      "text/html": [
       "<div>\n",
       "<style scoped>\n",
       "    .dataframe tbody tr th:only-of-type {\n",
       "        vertical-align: middle;\n",
       "    }\n",
       "\n",
       "    .dataframe tbody tr th {\n",
       "        vertical-align: top;\n",
       "    }\n",
       "\n",
       "    .dataframe thead th {\n",
       "        text-align: right;\n",
       "    }\n",
       "</style>\n",
       "<table border=\"1\" class=\"dataframe\">\n",
       "  <thead>\n",
       "    <tr style=\"text-align: right;\">\n",
       "      <th></th>\n",
       "      <th>hsa-mir-576</th>\n",
       "      <th>hsa-mir-200b</th>\n",
       "      <th>hsa-mir-3687</th>\n",
       "      <th>hsa-mir-126</th>\n",
       "      <th>hsa-mir-26a-2</th>\n",
       "      <th>hsa-mir-101-1</th>\n",
       "      <th>hsa-mir-218-2</th>\n",
       "      <th>hsa-mir-223</th>\n",
       "      <th>hsa-mir-335</th>\n",
       "      <th>hsa-mir-1468</th>\n",
       "      <th>...</th>\n",
       "      <th>hsa-mir-217</th>\n",
       "      <th>hsa-mir-424</th>\n",
       "      <th>hsa-mir-581</th>\n",
       "      <th>hsa-mir-483</th>\n",
       "      <th>hsa-mir-3614</th>\n",
       "      <th>hsa-mir-16-1</th>\n",
       "      <th>hsa-mir-550a-2</th>\n",
       "      <th>hsa-mir-24-1</th>\n",
       "      <th>hsa-mir-508</th>\n",
       "      <th>hsa-mir-642a</th>\n",
       "    </tr>\n",
       "    <tr>\n",
       "      <th>patient_id</th>\n",
       "      <th></th>\n",
       "      <th></th>\n",
       "      <th></th>\n",
       "      <th></th>\n",
       "      <th></th>\n",
       "      <th></th>\n",
       "      <th></th>\n",
       "      <th></th>\n",
       "      <th></th>\n",
       "      <th></th>\n",
       "      <th></th>\n",
       "      <th></th>\n",
       "      <th></th>\n",
       "      <th></th>\n",
       "      <th></th>\n",
       "      <th></th>\n",
       "      <th></th>\n",
       "      <th></th>\n",
       "      <th></th>\n",
       "      <th></th>\n",
       "      <th></th>\n",
       "    </tr>\n",
       "  </thead>\n",
       "  <tbody>\n",
       "    <tr>\n",
       "      <th>TCGA-D8-A1JB-01</th>\n",
       "      <td>0.079457</td>\n",
       "      <td>0.046150</td>\n",
       "      <td>0.008850</td>\n",
       "      <td>0.152926</td>\n",
       "      <td>0.099120</td>\n",
       "      <td>0.103930</td>\n",
       "      <td>0.080421</td>\n",
       "      <td>0.056304</td>\n",
       "      <td>0.022416</td>\n",
       "      <td>0.021445</td>\n",
       "      <td>...</td>\n",
       "      <td>0.000965</td>\n",
       "      <td>0.101410</td>\n",
       "      <td>0.0000</td>\n",
       "      <td>0.007236</td>\n",
       "      <td>0.002022</td>\n",
       "      <td>0.022180</td>\n",
       "      <td>0.033766</td>\n",
       "      <td>0.055666</td>\n",
       "      <td>0.006146</td>\n",
       "      <td>0.005172</td>\n",
       "    </tr>\n",
       "    <tr>\n",
       "      <th>TCGA-D8-A1JL-01</th>\n",
       "      <td>0.110465</td>\n",
       "      <td>0.138854</td>\n",
       "      <td>0.017699</td>\n",
       "      <td>0.097901</td>\n",
       "      <td>0.139139</td>\n",
       "      <td>0.027866</td>\n",
       "      <td>0.097684</td>\n",
       "      <td>0.076584</td>\n",
       "      <td>0.062983</td>\n",
       "      <td>0.020316</td>\n",
       "      <td>...</td>\n",
       "      <td>0.115024</td>\n",
       "      <td>0.202149</td>\n",
       "      <td>0.5625</td>\n",
       "      <td>0.000250</td>\n",
       "      <td>0.020218</td>\n",
       "      <td>0.083382</td>\n",
       "      <td>0.033766</td>\n",
       "      <td>0.236581</td>\n",
       "      <td>0.003688</td>\n",
       "      <td>0.008621</td>\n",
       "    </tr>\n",
       "    <tr>\n",
       "      <th>TCGA-EW-A2FS-01</th>\n",
       "      <td>NaN</td>\n",
       "      <td>NaN</td>\n",
       "      <td>NaN</td>\n",
       "      <td>NaN</td>\n",
       "      <td>NaN</td>\n",
       "      <td>NaN</td>\n",
       "      <td>NaN</td>\n",
       "      <td>NaN</td>\n",
       "      <td>NaN</td>\n",
       "      <td>NaN</td>\n",
       "      <td>...</td>\n",
       "      <td>NaN</td>\n",
       "      <td>NaN</td>\n",
       "      <td>NaN</td>\n",
       "      <td>NaN</td>\n",
       "      <td>NaN</td>\n",
       "      <td>NaN</td>\n",
       "      <td>NaN</td>\n",
       "      <td>NaN</td>\n",
       "      <td>NaN</td>\n",
       "      <td>NaN</td>\n",
       "    </tr>\n",
       "    <tr>\n",
       "      <th>TCGA-BH-A8FZ-01</th>\n",
       "      <td>NaN</td>\n",
       "      <td>NaN</td>\n",
       "      <td>NaN</td>\n",
       "      <td>NaN</td>\n",
       "      <td>NaN</td>\n",
       "      <td>NaN</td>\n",
       "      <td>NaN</td>\n",
       "      <td>NaN</td>\n",
       "      <td>NaN</td>\n",
       "      <td>NaN</td>\n",
       "      <td>...</td>\n",
       "      <td>NaN</td>\n",
       "      <td>NaN</td>\n",
       "      <td>NaN</td>\n",
       "      <td>NaN</td>\n",
       "      <td>NaN</td>\n",
       "      <td>NaN</td>\n",
       "      <td>NaN</td>\n",
       "      <td>NaN</td>\n",
       "      <td>NaN</td>\n",
       "      <td>NaN</td>\n",
       "    </tr>\n",
       "    <tr>\n",
       "      <th>TCGA-D8-A1XG-01</th>\n",
       "      <td>NaN</td>\n",
       "      <td>NaN</td>\n",
       "      <td>NaN</td>\n",
       "      <td>NaN</td>\n",
       "      <td>NaN</td>\n",
       "      <td>NaN</td>\n",
       "      <td>NaN</td>\n",
       "      <td>NaN</td>\n",
       "      <td>NaN</td>\n",
       "      <td>NaN</td>\n",
       "      <td>...</td>\n",
       "      <td>NaN</td>\n",
       "      <td>NaN</td>\n",
       "      <td>NaN</td>\n",
       "      <td>NaN</td>\n",
       "      <td>NaN</td>\n",
       "      <td>NaN</td>\n",
       "      <td>NaN</td>\n",
       "      <td>NaN</td>\n",
       "      <td>NaN</td>\n",
       "      <td>NaN</td>\n",
       "    </tr>\n",
       "  </tbody>\n",
       "</table>\n",
       "<p>5 rows × 257 columns</p>\n",
       "</div>"
      ],
      "text/plain": [
       "                 hsa-mir-576  hsa-mir-200b  hsa-mir-3687  hsa-mir-126  \\\n",
       "patient_id                                                              \n",
       "TCGA-D8-A1JB-01     0.079457      0.046150      0.008850     0.152926   \n",
       "TCGA-D8-A1JL-01     0.110465      0.138854      0.017699     0.097901   \n",
       "TCGA-EW-A2FS-01          NaN           NaN           NaN          NaN   \n",
       "TCGA-BH-A8FZ-01          NaN           NaN           NaN          NaN   \n",
       "TCGA-D8-A1XG-01          NaN           NaN           NaN          NaN   \n",
       "\n",
       "                 hsa-mir-26a-2  hsa-mir-101-1  hsa-mir-218-2  hsa-mir-223  \\\n",
       "patient_id                                                                  \n",
       "TCGA-D8-A1JB-01       0.099120       0.103930       0.080421     0.056304   \n",
       "TCGA-D8-A1JL-01       0.139139       0.027866       0.097684     0.076584   \n",
       "TCGA-EW-A2FS-01            NaN            NaN            NaN          NaN   \n",
       "TCGA-BH-A8FZ-01            NaN            NaN            NaN          NaN   \n",
       "TCGA-D8-A1XG-01            NaN            NaN            NaN          NaN   \n",
       "\n",
       "                 hsa-mir-335  hsa-mir-1468  ...  hsa-mir-217  hsa-mir-424  \\\n",
       "patient_id                                  ...                             \n",
       "TCGA-D8-A1JB-01     0.022416      0.021445  ...     0.000965     0.101410   \n",
       "TCGA-D8-A1JL-01     0.062983      0.020316  ...     0.115024     0.202149   \n",
       "TCGA-EW-A2FS-01          NaN           NaN  ...          NaN          NaN   \n",
       "TCGA-BH-A8FZ-01          NaN           NaN  ...          NaN          NaN   \n",
       "TCGA-D8-A1XG-01          NaN           NaN  ...          NaN          NaN   \n",
       "\n",
       "                 hsa-mir-581  hsa-mir-483  hsa-mir-3614  hsa-mir-16-1  \\\n",
       "patient_id                                                              \n",
       "TCGA-D8-A1JB-01       0.0000     0.007236      0.002022      0.022180   \n",
       "TCGA-D8-A1JL-01       0.5625     0.000250      0.020218      0.083382   \n",
       "TCGA-EW-A2FS-01          NaN          NaN           NaN           NaN   \n",
       "TCGA-BH-A8FZ-01          NaN          NaN           NaN           NaN   \n",
       "TCGA-D8-A1XG-01          NaN          NaN           NaN           NaN   \n",
       "\n",
       "                 hsa-mir-550a-2  hsa-mir-24-1  hsa-mir-508  hsa-mir-642a  \n",
       "patient_id                                                                \n",
       "TCGA-D8-A1JB-01        0.033766      0.055666     0.006146      0.005172  \n",
       "TCGA-D8-A1JL-01        0.033766      0.236581     0.003688      0.008621  \n",
       "TCGA-EW-A2FS-01             NaN           NaN          NaN           NaN  \n",
       "TCGA-BH-A8FZ-01             NaN           NaN          NaN           NaN  \n",
       "TCGA-D8-A1XG-01             NaN           NaN          NaN           NaN  \n",
       "\n",
       "[5 rows x 257 columns]"
      ]
     },
     "execution_count": 12,
     "metadata": {},
     "output_type": "execute_result"
    }
   ],
   "source": [
    "from sklearn.impute import SimpleImputer\n",
    "\n",
    "#Combining the train and test samples into one dataframe.\n",
    "print(X_train.shape)\n",
    "print(X_val.shape)\n",
    "X = pd.concat([X_train, X_val])\n",
    "print(X.shape)\n",
    "X.iloc[370:375, mask]"
   ]
  },
  {
   "cell_type": "markdown",
   "metadata": {},
   "source": [
    "## Imputing with Mean and Median"
   ]
  },
  {
   "cell_type": "markdown",
   "metadata": {},
   "source": [
    "### Imputing with Mean"
   ]
  },
  {
   "cell_type": "code",
   "execution_count": 13,
   "metadata": {},
   "outputs": [],
   "source": [
    "imp = SimpleImputer(missing_values=np.nan, strategy='mean')\n",
    "imp.fit(X_train)\n",
    "\n",
    "mean_imputed = imp.transform(X_val)\n",
    "# SimpleImputers returns a numpy.ndarray\n",
    "# I will convert it to a pandas data frame\n",
    "#mean_imputed = pd.DataFrame(mean_imputed, columns = X_val.columns, index = X_val.index)\n",
    "\n",
    "\n",
    "#print(mean_imputed.shape)\n",
    "#mask = [x==\"mirna\" for x in datatypes]\n",
    "#mean_imputed.loc[:,mask].head()"
   ]
  },
  {
   "cell_type": "markdown",
   "metadata": {},
   "source": [
    "### Imputing with Median"
   ]
  },
  {
   "cell_type": "code",
   "execution_count": 14,
   "metadata": {},
   "outputs": [],
   "source": [
    "imp = SimpleImputer(missing_values=np.nan, strategy='median')\n",
    "imp.fit(X_train)\n",
    "\n",
    "median_imputed = imp.transform(X_val)\n",
    "#median_imputed = pd.DataFrame(median_imputed, columns = X_val.columns, index = X_val.index)\n",
    "\n",
    "#print(median_imputed.shape)\n",
    "#mask = [x==\"mirna\" for x in datatypes]\n",
    "#median_imputed.loc[:,mask].head()"
   ]
  },
  {
   "cell_type": "code",
   "execution_count": 15,
   "metadata": {},
   "outputs": [
    {
     "name": "stdout",
     "output_type": "stream",
     "text": [
      "RMSE\n",
      "0.0\n",
      "0.5262687084890254\n",
      "0.09808654721684143\n",
      "0.10037655901358895\n",
      "\n",
      "Standard Deviation\n",
      "0.10615528918894765\n",
      "0.2899613916518392\n",
      "0.04489987012416516\n",
      "0.03600215901869758\n"
     ]
    }
   ],
   "source": [
    "mask = [x==\"mirna\" for x in datatypes]\n",
    "truth = X_val_truth.loc[:,mask].to_numpy()\n",
    "random = (np.random.rand(truth.shape[0],truth.shape[1]))# - np.mean(truth))/np.std(truth)\n",
    "\n",
    "print(\"RMSE\")\n",
    "print(rmse(truth, truth))\n",
    "print(rmse(truth, random))\n",
    "print(rmse(truth, mean_imputed[:,mask]))\n",
    "print(rmse(truth, median_imputed[:,mask]))\n",
    "\n",
    "print(\"\\nStandard Deviation\")\n",
    "print(truth.std())\n",
    "print(random.std())\n",
    "print(mean_imputed[:,mask].std())\n",
    "print(median_imputed[:,mask].std())"
   ]
  },
  {
   "cell_type": "markdown",
   "metadata": {},
   "source": [
    "# Slightly More Complicated Methods"
   ]
  },
  {
   "cell_type": "code",
   "execution_count": 12,
   "metadata": {},
   "outputs": [],
   "source": [
    "from sklearn.experimental import enable_iterative_imputer\n",
    "from sklearn.impute import IterativeImputer"
   ]
  },
  {
   "cell_type": "markdown",
   "metadata": {},
   "source": [
    "Here, initially, all the missing features are replaced with the mean value. Then, iteratively, the estimator is used to estimate the missing value from all the other features. Within each iteration through all the missing values, the features are imputed in a random order."
   ]
  },
  {
   "cell_type": "markdown",
   "metadata": {},
   "source": [
    "## Estimator: ElasticNet"
   ]
  },
  {
   "cell_type": "markdown",
   "metadata": {},
   "source": [
    "#### L1 Ratio = 0.2"
   ]
  },
  {
   "cell_type": "code",
   "execution_count": 13,
   "metadata": {},
   "outputs": [],
   "source": [
    "from sklearn.linear_model import ElasticNet\n",
    "\n",
    "imp = IterativeImputer(estimator = ElasticNet(l1_ratio = 0.2), initial_strategy = \"mean\", \n",
    "                       imputation_order = \"random\", random_state = 42,\n",
    "                      n_nearest_features = 50)\n",
    "imp.fit(X_train)\n",
    "\n",
    "elasticnet_l2_imputed = imp.transform(X_val)\n",
    "#elasticnet_l2_imputed = pd.DataFrame(elasticnet_l2_imputed, columns = X_val.columns, index = X_val.index)\n",
    "#print(elasticnet_l2_imputed.shape)\n",
    "#mask = [x==\"mirna\" for x in datatypes]\n",
    "#elasticnet_l2_imputed.loc[:,mask].head()"
   ]
  },
  {
   "cell_type": "markdown",
   "metadata": {},
   "source": [
    "#### L1 Ratio = 0.8"
   ]
  },
  {
   "cell_type": "code",
   "execution_count": 14,
   "metadata": {},
   "outputs": [],
   "source": [
    "from sklearn.linear_model import ElasticNet\n",
    "\n",
    "imp = IterativeImputer(estimator = ElasticNet(l1_ratio = 0.75), initial_strategy = \"mean\", \n",
    "                       imputation_order = \"random\", random_state = 42,\n",
    "                      n_nearest_features = 50)\n",
    "imp.fit(X_train)\n",
    "\n",
    "elasticnet_l1_imputed = imp.transform(X_val)\n",
    "#elasticnet_l1_imputed = pd.DataFrame(elasticnet_l1_imputed, columns = X_val.columns, index = X_val.index)\n",
    "#print(elasticnet_l1_imputed.shape)\n",
    "#mask = [x==\"mirna\" for x in datatypes]\n",
    "#elasticnet_l1_imputed.loc[:,mask].head()"
   ]
  },
  {
   "cell_type": "code",
   "execution_count": 15,
   "metadata": {},
   "outputs": [
    {
     "name": "stdout",
     "output_type": "stream",
     "text": [
      "RMSE\n",
      "0.0\n",
      "0.09808654721684143\n",
      "0.09808654721684143\n",
      "0.09808654721684143\n",
      "\n",
      "Standard Deviation\n",
      "0.10615528918894765\n",
      "0.04489987012416516\n",
      "0.04489987012416516\n",
      "0.04489987012416516\n"
     ]
    }
   ],
   "source": [
    "print(\"RMSE\")\n",
    "print(rmse(truth, truth))\n",
    "print(rmse(truth, mean_imputed[:,mask]))\n",
    "print(rmse(truth, elasticnet_l1_imputed[:,mask]))\n",
    "print(rmse(truth, elasticnet_l2_imputed[:,mask]))\n",
    "\n",
    "print(\"\\nStandard Deviation\")\n",
    "print(truth.std())\n",
    "print(mean_imputed[:,mask].std())\n",
    "print(elasticnet_l1_imputed[:,mask].std())\n",
    "print(elasticnet_l2_imputed[:,mask].std())"
   ]
  },
  {
   "cell_type": "markdown",
   "metadata": {},
   "source": [
    "## Estimator: KNeighborsRegressor"
   ]
  },
  {
   "cell_type": "markdown",
   "metadata": {},
   "source": [
    "#### K = 25"
   ]
  },
  {
   "cell_type": "code",
   "execution_count": 42,
   "metadata": {},
   "outputs": [],
   "source": [
    "from sklearn.neighbors import KNeighborsRegressor\n",
    "\n",
    "imp = IterativeImputer(estimator = KNeighborsRegressor(n_neighbors=25), \n",
    "                       initial_strategy = \"mean\", imputation_order = \"random\", random_state = 42,\n",
    "                      n_nearest_features = 25)\n",
    "imp.fit(X_train)\n",
    "\n",
    "knn25_iter_imputed = imp.transform(X_val)"
   ]
  },
  {
   "cell_type": "markdown",
   "metadata": {},
   "source": [
    "#### K = 50"
   ]
  },
  {
   "cell_type": "code",
   "execution_count": 43,
   "metadata": {},
   "outputs": [],
   "source": [
    "from sklearn.neighbors import KNeighborsRegressor\n",
    "\n",
    "imp = IterativeImputer(estimator = KNeighborsRegressor(n_neighbors=50), \n",
    "                       initial_strategy = \"mean\", imputation_order = \"random\", random_state = 42,\n",
    "                      n_nearest_features = 50)\n",
    "imp.fit(X_train)\n",
    "\n",
    "knn50_iter_imputed = imp.transform(X_val)"
   ]
  },
  {
   "cell_type": "markdown",
   "metadata": {},
   "source": [
    "#### K = 75"
   ]
  },
  {
   "cell_type": "code",
   "execution_count": 44,
   "metadata": {},
   "outputs": [],
   "source": [
    "from sklearn.neighbors import KNeighborsRegressor\n",
    "\n",
    "imp = IterativeImputer(estimator = KNeighborsRegressor(n_neighbors=75), \n",
    "                       initial_strategy = \"mean\", imputation_order = \"random\", random_state = 42,\n",
    "                      n_nearest_features = 75)\n",
    "imp.fit(X_train)\n",
    "\n",
    "knn75_iter_imputed = imp.transform(X_val)"
   ]
  },
  {
   "cell_type": "markdown",
   "metadata": {},
   "source": [
    "#### K = 100"
   ]
  },
  {
   "cell_type": "code",
   "execution_count": 45,
   "metadata": {},
   "outputs": [],
   "source": [
    "from sklearn.neighbors import KNeighborsRegressor\n",
    "\n",
    "imp = IterativeImputer(estimator = KNeighborsRegressor(n_neighbors=100), \n",
    "                       initial_strategy = \"mean\", imputation_order = \"random\", random_state = 42,\n",
    "                      n_nearest_features = 100)\n",
    "imp.fit(X_train)\n",
    "\n",
    "knn100_iter_imputed = imp.transform(X_val)"
   ]
  },
  {
   "cell_type": "code",
   "execution_count": 46,
   "metadata": {},
   "outputs": [
    {
     "name": "stdout",
     "output_type": "stream",
     "text": [
      "RMSE\n",
      "0.0\n",
      "0.09808654721684143\n",
      "0.09706443121270594\n",
      "0.09684563410179363\n",
      "0.09688083879202193\n",
      "0.09683528846469257\n",
      "\n",
      "Standard Deviation\n",
      "0.10615528918894765\n",
      "0.04489987012416516\n",
      "0.04442395037412617\n",
      "0.04136561038910045\n",
      "0.04102801872375675\n",
      "0.040607221785942914\n"
     ]
    }
   ],
   "source": [
    "print(\"RMSE\")\n",
    "print(rmse(truth, truth))\n",
    "print(rmse(truth, mean_imputed[:,mask]))\n",
    "print(rmse(truth, knn25_iter_imputed[:,mask]))\n",
    "print(rmse(truth, knn50_iter_imputed[:,mask]))\n",
    "print(rmse(truth, knn75_iter_imputed[:,mask]))\n",
    "print(rmse(truth, knn100_iter_imputed[:,mask]))\n",
    "\n",
    "print(\"\\nStandard Deviation\")\n",
    "print(truth.std())\n",
    "print(mean_imputed[:,mask].std())\n",
    "print(knn25_iter_imputed[:,mask].std())\n",
    "print(knn50_iter_imputed[:,mask].std())\n",
    "print(knn75_iter_imputed[:,mask].std())\n",
    "print(knn100_iter_imputed[:,mask].std())"
   ]
  },
  {
   "cell_type": "markdown",
   "metadata": {},
   "source": [
    "## Estimator: RandomForestRegressor"
   ]
  },
  {
   "cell_type": "markdown",
   "metadata": {},
   "source": [
    "#### Max Depth = 10"
   ]
  },
  {
   "cell_type": "code",
   "execution_count": 11,
   "metadata": {},
   "outputs": [],
   "source": [
    "from sklearn.ensemble import RandomForestRegressor\n",
    "\n",
    "imp = IterativeImputer(estimator = RandomForestRegressor(max_depth=10), \n",
    "                       initial_strategy = \"mean\", imputation_order = \"random\", random_state = 42,\n",
    "                      n_nearest_features = 200)\n",
    "imp.fit(X_train)\n",
    "\n",
    "rf10_imputed = imp.transform(X_val)"
   ]
  },
  {
   "cell_type": "markdown",
   "metadata": {},
   "source": [
    "#### Max Depth = 20"
   ]
  },
  {
   "cell_type": "code",
   "execution_count": 12,
   "metadata": {},
   "outputs": [],
   "source": [
    "from sklearn.ensemble import RandomForestRegressor\n",
    "\n",
    "imp = IterativeImputer(estimator = RandomForestRegressor(max_depth=20), \n",
    "                       initial_strategy = \"mean\", imputation_order = \"random\", random_state = 42,\n",
    "                      n_nearest_features = 200)\n",
    "imp.fit(X_train)\n",
    "\n",
    "rf20_imputed = imp.transform(X_val)"
   ]
  },
  {
   "cell_type": "code",
   "execution_count": 13,
   "metadata": {},
   "outputs": [
    {
     "name": "stdout",
     "output_type": "stream",
     "text": [
      "1.3514235544024777\n",
      "1.3526947398648599\n",
      "1.353721124349755\n"
     ]
    }
   ],
   "source": [
    "print(nrmse(truth, mean_imputed[:,mask]))\n",
    "print(nrmse(truth, rf10_imputed[:,mask]))\n",
    "print(nrmse(truth, rf20_imputed[:,mask]))"
   ]
  },
  {
   "cell_type": "markdown",
   "metadata": {},
   "source": [
    "# Deck Imputation"
   ]
  },
  {
   "cell_type": "markdown",
   "metadata": {},
   "source": [
    "It is not exactly deck imputation in that we are not replacing the missing value with a value from the existing set. Here, I select the k closest samples and get the average of their values to impute the missing values.\n",
    "\n",
    "I am testing kNN with k values equal to all odd numbers between 0 and 20."
   ]
  },
  {
   "cell_type": "code",
   "execution_count": 10,
   "metadata": {},
   "outputs": [
    {
     "name": "stdout",
     "output_type": "stream",
     "text": [
      "13\n"
     ]
    }
   ],
   "source": [
    "from sklearn.impute import KNNImputer\n",
    "\n",
    "knn = {}\n",
    "\n",
    "for i in [1,5,10,15,20,25,30,35,40,45,50,75,100]:\n",
    "    imputer = KNNImputer(n_neighbors=i)\n",
    "    imputer.fit(X_train)\n",
    "\n",
    "    knn[i] = imputer.transform(X_val)\n",
    "    #knn[i] = pd.DataFrame(knn[i], columns = X_val.columns, index = X_val.index)\n",
    "\n",
    "print(len(knn))\n",
    "#print(knn[1].shape)\n",
    "#mask = [x==\"mirna\" for x in datatypes]\n",
    "#knn[1].loc[:,mask].head()"
   ]
  },
  {
   "cell_type": "code",
   "execution_count": 16,
   "metadata": {
    "scrolled": true
   },
   "outputs": [
    {
     "name": "stdout",
     "output_type": "stream",
     "text": [
      "0.0\n",
      "0.10615528918894765\n",
      "\n",
      "0.09808654721684143\n",
      "0.04489987012416516\n",
      "\n",
      "0.09772186476154054\n",
      "0.10478754862122502\n",
      "\n",
      "0.13112292928554084\n",
      "0.10478754862122502\n",
      "\n",
      "0.1047475141839711\n",
      "0.07203862173704595\n",
      "\n",
      "0.10097084589363316\n",
      "0.06427839857282282\n",
      "\n",
      "0.09977679942888053\n",
      "0.06140562119523913\n",
      "\n",
      "0.09925989347980214\n",
      "0.059305083427441035\n",
      "\n",
      "0.09856044397313468\n",
      "0.05781558990162404\n",
      "\n",
      "0.0980691452730506\n",
      "0.05642601332976928\n",
      "\n",
      "0.09803534611140967\n",
      "0.055640456876138306\n",
      "\n",
      "0.09816291728792632\n",
      "0.054956696204829354\n",
      "\n",
      "0.09784663394111433\n",
      "0.0542942718341059\n",
      "\n",
      "0.09772186476154054\n",
      "0.05382403291660356\n",
      "\n",
      "0.0977562975188772\n",
      "0.05158934607844852\n",
      "\n",
      "0.09773882456164201\n",
      "0.050021110608876346\n"
     ]
    }
   ],
   "source": [
    "print(rmse(truth, truth))\n",
    "print(truth.std())\n",
    "print()\n",
    "print(rmse(truth, mean_imputed[:,mask]))\n",
    "print(mean_imputed[:,mask].std())\n",
    "print()\n",
    "\n",
    "print(min([rmse(truth, each[:,mask]) for each in knn.values()]))\n",
    "print(max([each[:,mask].std() for each in knn.values()]))\n",
    "for each in knn.values():\n",
    "    print()\n",
    "    print(rmse(truth, each[:,mask]))\n",
    "    print(each[:,mask].std())"
   ]
  },
  {
   "cell_type": "markdown",
   "metadata": {},
   "source": [
    "# Comparing Imputation Methods"
   ]
  },
  {
   "cell_type": "markdown",
   "metadata": {},
   "source": [
    "To compare the imputation methods, we first need to quantify them. Here, I am going to use the Normalized Root Mean Squared Error (NRMSE) to quantify each of the methods and then compare them.\n",
    "\n",
    "< Insert NRMSE formula in latex >"
   ]
  },
  {
   "cell_type": "markdown",
   "metadata": {},
   "source": [
    "### Truth and Random values' RMSE and Standard Deviation"
   ]
  },
  {
   "cell_type": "code",
   "execution_count": 10,
   "metadata": {
    "scrolled": true
   },
   "outputs": [
    {
     "name": "stdout",
     "output_type": "stream",
     "text": [
      "\n",
      " ==================================================\n",
      "Missing datatype =  ['mirna'] \n",
      "\n",
      "RMSE\n",
      "0.0\n",
      "0.5280194095587588\n",
      "0.08532672527431143\n",
      "\n",
      "Standard Deviation\n",
      "0.09404484993522633\n",
      "0.2880182827063015\n",
      "0.04489987012416516\n",
      "\n",
      " ==================================================\n",
      "Missing datatype =  ['meth'] \n",
      "\n",
      "RMSE\n",
      "0.0\n",
      "0.38274093860354524\n",
      "0.13395549781914132\n",
      "\n",
      "Standard Deviation\n",
      "0.24898564747309185\n",
      "0.28949310757803054\n",
      "0.20719970088331416\n",
      "\n",
      " ==================================================\n",
      "Missing datatype =  ['mrna'] \n",
      "\n",
      "RMSE\n",
      "0.0\n",
      "0.3350945359684059\n",
      "0.1386394962855829\n",
      "\n",
      "Standard Deviation\n",
      "0.17038344803172661\n",
      "0.28919302838434907\n",
      "0.09626461413543717\n",
      "\n",
      " ==================================================\n",
      "Missing datatype =  ['mirna', 'meth'] \n",
      "\n",
      "RMSE\n",
      "0.0\n",
      "0.415646271871899\n",
      "0.1255543078298891\n",
      "\n",
      "Standard Deviation\n",
      "0.2919038085324888\n",
      "0.2885746128844383\n",
      "0.26100866746264045\n",
      "\n",
      " ==================================================\n",
      "Missing datatype =  ['meth', 'mrna'] \n",
      "\n",
      "RMSE\n",
      "0.0\n",
      "0.35974782374909714\n",
      "0.13631761684810612\n",
      "\n",
      "Standard Deviation\n",
      "0.2135322511269876\n",
      "0.28870182636280134\n",
      "0.1619799396547426\n",
      "\n",
      " ==================================================\n",
      "Missing datatype =  ['mrna', 'mirna'] \n",
      "\n",
      "RMSE\n",
      "0.0\n",
      "0.38283436743469623\n",
      "0.1295363403769125\n",
      "\n",
      "Standard Deviation\n",
      "0.23730089687875197\n",
      "0.28874397002557967\n",
      "0.19483150610691286\n"
     ]
    }
   ],
   "source": [
    "missing_types = [[\"mirna\"], [\"meth\"], [\"mrna\"], [\"mirna\", \"meth\"], [\"meth\", \"mrna\"], [\"mrna\", \"mirna\"]]\n",
    "df_rows_rmse = []\n",
    "df_rows_std = []\n",
    "for missing in missing_types:\n",
    "    print(\"\\n\", \"=\"*50)\n",
    "    print(\"Missing datatype = \", missing, \"\\n\")\n",
    "    \n",
    "    mask = [x in missing for x in datatypes]\n",
    "    X_test = deepcopy(X_test_truth)\n",
    "    X_test.loc[:,mask] = np.nan\n",
    "    truth = X_test_truth.loc[:,mask].to_numpy()\n",
    "    random = (np.random.rand(truth.shape[0],truth.shape[1]))\n",
    "    \n",
    "    imp = SimpleImputer(missing_values=np.nan, strategy=\"mean\")\n",
    "    imp.fit(X_train)\n",
    "    mean = imp.transform(X_test)\n",
    "\n",
    "    print(\"RMSE\")\n",
    "    print(rmse(truth, truth))\n",
    "    print(rmse(truth, random))\n",
    "    print(rmse(truth, mean[:,mask]))\n",
    "\n",
    "    print(\"\\nStandard Deviation\")\n",
    "    print(truth.std())\n",
    "    print(random.std())\n",
    "    print(mean[:,mask].std())"
   ]
  },
  {
   "cell_type": "markdown",
   "metadata": {},
   "source": [
    "### Spearman Correlation"
   ]
  },
  {
   "cell_type": "code",
   "execution_count": 17,
   "metadata": {},
   "outputs": [],
   "source": [
    "mask = [x==\"mirna\" for x in datatypes]\n",
    "truth = X_test_truth.loc[:,mask]\n",
    "random = np.random.rand(truth.shape[0],truth.shape[1])\n",
    "sp_truth = truth.corrwith(truth, method=\"spearman\")\n",
    "sp_random = truth.corrwith(pd.DataFrame(random, columns = X_test.loc[:,mask].columns, index = X_test.index))"
   ]
  },
  {
   "cell_type": "code",
   "execution_count": 18,
   "metadata": {},
   "outputs": [
    {
     "name": "stdout",
     "output_type": "stream",
     "text": [
      "(125, 257)\n",
      "(125, 257)\n"
     ]
    },
    {
     "data": {
      "text/plain": [
       "hsa-mir-576      0.119275\n",
       "hsa-mir-200b     0.178020\n",
       "hsa-mir-3687    -0.065322\n",
       "hsa-mir-126     -0.129541\n",
       "hsa-mir-26a-2    0.014167\n",
       "dtype: float64"
      ]
     },
     "execution_count": 18,
     "metadata": {},
     "output_type": "execute_result"
    }
   ],
   "source": [
    "print(truth.shape)\n",
    "print(random.shape)\n",
    "sp_random.head()"
   ]
  },
  {
   "cell_type": "markdown",
   "metadata": {},
   "source": [
    "Now, figure out how to combine multiple sp_ pandas series.  \n",
    "Finally, I need a multi-index list, where the indices are \\[datatype missing, method, and feature\\]"
   ]
  },
  {
   "cell_type": "code",
   "execution_count": 19,
   "metadata": {
    "scrolled": false
   },
   "outputs": [
    {
     "name": "stdout",
     "output_type": "stream",
     "text": [
      "\n",
      " ==================================================\n",
      "Missing datatype =  ['mirna'] \n",
      "\n",
      "\n",
      " ==================================================\n",
      "Missing datatype =  ['meth'] \n",
      "\n",
      "\n",
      " ==================================================\n",
      "Missing datatype =  ['mrna'] \n",
      "\n"
     ]
    }
   ],
   "source": [
    "methods = [\"mean\", \"median\", \"knn1\", \"knn50\"]#, \"enet\", \"knn_iter\", \"rf\", \"knn1\", \"knn50\"]\n",
    "imputed = {}\n",
    "imputers = {\n",
    "    \"mean\": SimpleImputer(missing_values=np.nan, strategy=\"mean\"),\n",
    "    \"median\": SimpleImputer(missing_values=np.nan, strategy=\"median\"),\n",
    "    #\"enet\": IterativeImputer(estimator = ElasticNet(l1_ratio=0.5), initial_strategy = \"mean\", imputation_order = \"random\", random_state = NUMBER, n_nearest_features = 75),\n",
    "    #\"knn_iter\": IterativeImputer(estimator = KNeighborsRegressor(n_neighbors=75), initial_strategy=\"mean\", imputation_order=\"random\", random_state = NUMBER, n_nearest_features = 75),\n",
    "    #\"rf\": IterativeImputer(estimator = RandomForestRegressor(max_depth=10), initial_strategy=\"mean\", imputation_order=\"random\", random_state = NUMBER, n_nearest_features = 200),\n",
    "    \"knn1\": KNNImputer(n_neighbors=1),\n",
    "    \"knn50\": KNNImputer(n_neighbors=50),\n",
    "    }\n",
    "\n",
    "missing_types = [[\"mirna\"], [\"meth\"], [\"mrna\"]]#, [\"mirna\", \"meth\"], [\"meth\", \"mrna\"], [\"mrna\", \"mirna\"]]\n",
    "df_list = []\n",
    "for missing in missing_types:\n",
    "    print(\"\\n\", \"=\"*50)\n",
    "    print(\"Missing datatype = \", missing, \"\\n\")\n",
    "    \n",
    "    mask = [x in missing for x in datatypes]\n",
    "    X_test = deepcopy(X_test_truth)\n",
    "    X_test.loc[:,mask] = np.nan\n",
    "    truth = X_test_truth.loc[:, mask]\n",
    "    random = pd.DataFrame(np.random.rand(truth.shape[0], truth.shape[1]), columns = X_test.loc[:,mask].columns, index = X_test.index)\n",
    "\n",
    "    sp_dict = {\"random\": random.corrwith(truth)}\n",
    "    for method in methods:\n",
    "        #print(method)\n",
    "        imp = imputers[method]\n",
    "        imp.fit(X_train)\n",
    "        imputed_values = imp.transform(X_test)\n",
    "        imputed_values = pd.DataFrame(imputed_values, columns = X_test.columns, index = X_test.index)\n",
    "        \n",
    "        sp_score = imputed_values.loc[:,mask].corrwith(truth)\n",
    "        sp_dict[method] = sp_score\n",
    "        #print(\"\\n\", \"-\"*50)\n",
    "    df = pd.DataFrame(sp_dict)\n",
    "    df = df.melt(ignore_index=False, var_name=\"method\", value_name=\" \".join(missing))\n",
    "    df.set_index('method', append=True, inplace=True)\n",
    "    df_list.append(df)\n",
    "\n",
    "final = pd.concat(df_list, axis = 1)\n",
    "final = final.melt(ignore_index=False, var_name = \"missing_values\", value_name = \"Spearman\")\n",
    "#final.to_csv(\"spearman.csv\", index_label = [\"feature\", \"method\"], na_rep = \"0\")"
   ]
  },
  {
   "cell_type": "code",
   "execution_count": 62,
   "metadata": {
    "scrolled": true
   },
   "outputs": [
    {
     "data": {
      "text/plain": [
       "hsa-mir-576       0.339657\n",
       "hsa-mir-200b      0.454222\n",
       "hsa-mir-3687      0.259713\n",
       "hsa-mir-126       0.189294\n",
       "hsa-mir-26a-2     0.438230\n",
       "                    ...   \n",
       "hsa-mir-16-1      0.240053\n",
       "hsa-mir-550a-2    0.471678\n",
       "hsa-mir-24-1      0.248162\n",
       "hsa-mir-508       0.134291\n",
       "hsa-mir-642a      0.266245\n",
       "Length: 257, dtype: float64"
      ]
     },
     "execution_count": 62,
     "metadata": {},
     "output_type": "execute_result"
    }
   ],
   "source": [
    "temp = final.reset_index()\n",
    "temp[(temp[\"method\"] == \"knn50\") & (temp[\"level_0\"].isin(mirna.columns) & (temp[\"missing_values\"] == \"mirna\"))]\n",
    "sp_score"
   ]
  },
  {
   "cell_type": "code",
   "execution_count": 81,
   "metadata": {},
   "outputs": [],
   "source": [
    "from scipy.stats import spearmanr\n",
    "import pandas as pd\n",
    "\n",
    "mask = [x==\"meth\" for x in datatypes]\n",
    "X_test = deepcopy(X_test_truth)\n",
    "X_test.loc[:,mask] = np.nan\n",
    "truth = X_test_truth.loc[:, mask]\n",
    "random = pd.DataFrame(np.random.rand(truth.shape[0], truth.shape[1]), columns = X_test.loc[:,mask].columns, index = X_test.index)\n",
    "\n",
    "method = \"knn50\"\n",
    "imp = imputers[method]\n",
    "imp.fit(X_train)\n",
    "imputed_values = imp.transform(X_test)\n",
    "imputed_values = pd.DataFrame(imputed_values, columns = X_test.columns, index = X_test.index)\n",
    "\n",
    "df1 = imputed_values.loc[:,mask]\n",
    "df2 = truth\n",
    "coeff = {}\n",
    "pval = {}\n",
    "for i in range(df1.shape[1]):           \n",
    "    corrtest = spearmanr(df1[df1.columns[i]], df2[df2.columns[i]])  \n",
    "    #print(df1.columns[i]==df2.columns[i])\n",
    "    coeff[df1.columns[i]] = corrtest[0]\n",
    "    pval[df1.columns[i]] = corrtest[1]"
   ]
  },
  {
   "cell_type": "code",
   "execution_count": 82,
   "metadata": {},
   "outputs": [
    {
     "data": {
      "text/plain": [
       "915"
      ]
     },
     "execution_count": 82,
     "metadata": {},
     "output_type": "execute_result"
    }
   ],
   "source": [
    "sum([x<0.05 for x in list(pval.values())])"
   ]
  },
  {
   "cell_type": "markdown",
   "metadata": {},
   "source": [
    "For p-val < 0.05  \n",
    "- mrna: 924 out of 1000  \n",
    "- meth: 915 out of 1000  \n",
    "- mirna: 229 out of 257\n",
    "\n",
    "That is 91.6% of features having a significant correlation."
   ]
  },
  {
   "cell_type": "markdown",
   "metadata": {},
   "source": [
    "There is still the problem of all features' values being stored when only mirna is missing. This leads to too many NaNs and subsequently zeros in the file.  \n",
    "I'll resolve it in R, before making plots. I'll just add a column with the omics name for the feature in \"feature\" column. Then I'll remove those rows where the omics name is not inside of the \"missing_values\" column."
   ]
  }
 ],
 "metadata": {
  "kernelspec": {
   "display_name": "Python 3",
   "language": "python",
   "name": "python3"
  },
  "language_info": {
   "codemirror_mode": {
    "name": "ipython",
    "version": 3
   },
   "file_extension": ".py",
   "mimetype": "text/x-python",
   "name": "python",
   "nbconvert_exporter": "python",
   "pygments_lexer": "ipython3",
   "version": "3.7.3"
  }
 },
 "nbformat": 4,
 "nbformat_minor": 2
}
