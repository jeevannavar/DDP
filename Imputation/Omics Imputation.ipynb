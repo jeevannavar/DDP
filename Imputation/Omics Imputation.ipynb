{
 "cells": [
  {
   "cell_type": "markdown",
   "metadata": {},
   "source": [
    "# Multi-Omics Imputation\n",
    "\n",
    "The plan is to do the following:\n",
    "- Divide the data into train, validation, and test sets. Leave the test set for later.\n",
    "- Remove the values for a certain omics type from the validation set\n",
    "- Impute using the train set and the remaining value in the validation set\n",
    "- Compare these imputed values against the true values\n",
    "    - Distribution of correlation coefficients\n",
    "    - Get the mean and stdev of the correlation coefficients\n",
    "    - Choose best model\n",
    "- Evaluate on test set\n",
    "- Choose best method\n",
    "- Try on independent set\n",
    "- Finally, train GCN model and see difference between single omics, multi-omics, and imputed multi-omics\n",
    "\n",
    "I'll first start with some basics: data import and processing.\n",
    "Then I'll move to imputing one omics from two.\n",
    "Then I'll move to imputing two omics from one.\n",
    "I'll do all the steps above along the way."
   ]
  },
  {
   "cell_type": "markdown",
   "metadata": {},
   "source": [
    "## Importing requisite packages"
   ]
  },
  {
   "cell_type": "code",
   "execution_count": 2,
   "metadata": {},
   "outputs": [],
   "source": [
    "import sklearn\n",
    "import numpy as np\n",
    "import pandas as pd\n",
    "import matplotlib.pyplot as plt"
   ]
  },
  {
   "cell_type": "markdown",
   "metadata": {},
   "source": [
    "## Importing data"
   ]
  },
  {
   "cell_type": "code",
   "execution_count": 33,
   "metadata": {},
   "outputs": [],
   "source": [
    "mrna = pd.read_csv(\"/data/users/bs16b001/R/TCGA BRCA/mrna_top1000.csv\", index_col=0)\n",
    "meth = pd.read_csv(\"/data/users/bs16b001/R/TCGA BRCA/meth_top1000.csv\", index_col=0)\n",
    "mirna = pd.read_csv(\"/data/users/bs16b001/R/TCGA BRCA/mirna_anova.csv\", index_col=0)\n",
    "\n",
    "labels = pd.read_csv(\"/data/users/bs16b001/R/TCGA BRCA/PAM50_subtype.csv\", index_col=0)"
   ]
  },
  {
   "cell_type": "markdown",
   "metadata": {},
   "source": [
    "## Basic Data Processing"
   ]
  },
  {
   "cell_type": "markdown",
   "metadata": {},
   "source": [
    "Just combining all data and then also having a list containing what datatype the columns belong to."
   ]
  },
  {
   "cell_type": "code",
   "execution_count": 32,
   "metadata": {},
   "outputs": [
    {
     "name": "stdout",
     "output_type": "stream",
     "text": [
      "2257\n"
     ]
    }
   ],
   "source": [
    "all_data = pd.merge(pd.merge(mrna, meth, left_index=True, right_index=True), mirna,  left_index=True, right_index=True)\n",
    "\n",
    "datatypes = [\"mrna\"]*mrna.shape[1] + [\"meth\"]*meth.shape[1] + [\"mirna\"]*mirna.shape[1]"
   ]
  },
  {
   "cell_type": "markdown",
   "metadata": {},
   "source": [
    "Doing the train-validation-test split.\n",
    "These contain all the values intact."
   ]
  },
  {
   "cell_type": "code",
   "execution_count": null,
   "metadata": {},
   "outputs": [],
   "source": []
  },
  {
   "cell_type": "markdown",
   "metadata": {},
   "source": [
    "Removing all miRNA feature values"
   ]
  },
  {
   "cell_type": "code",
   "execution_count": null,
   "metadata": {},
   "outputs": [],
   "source": []
  },
  {
   "cell_type": "markdown",
   "metadata": {},
   "source": [
    "# Simple Imputation Methods"
   ]
  },
  {
   "cell_type": "markdown",
   "metadata": {},
   "source": [
    "## Imputing with Mean and Median"
   ]
  },
  {
   "cell_type": "markdown",
   "metadata": {},
   "source": [
    "### Imputing with Mean"
   ]
  }
 ],
 "metadata": {
  "kernelspec": {
   "display_name": "Python 3",
   "language": "python",
   "name": "python3"
  },
  "language_info": {
   "codemirror_mode": {
    "name": "ipython",
    "version": 3
   },
   "file_extension": ".py",
   "mimetype": "text/x-python",
   "name": "python",
   "nbconvert_exporter": "python",
   "pygments_lexer": "ipython3",
   "version": "3.7.3"
  }
 },
 "nbformat": 4,
 "nbformat_minor": 2
}
