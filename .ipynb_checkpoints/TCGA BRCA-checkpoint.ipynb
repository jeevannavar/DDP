{
 "cells": [
  {
   "cell_type": "code",
   "execution_count": 2,
   "metadata": {},
   "outputs": [],
   "source": [
    "from main import train_model\n",
    "import pandas as pd"
   ]
  },
  {
   "cell_type": "code",
   "execution_count": 8,
   "metadata": {},
   "outputs": [],
   "source": [
    "RUN_TITLE = \"This run includes only 3 GCNs - mRNA, DNA methylation, miRNA\"\n",
    "RUN_TITLE_SHORT = \"brca_full\"\n",
    "# SEED can be \"random\" or integer, if integer, it will be used as the seed for random, numpy, torch, and cuda\n",
    "SEED = \"random\" \n",
    "\n",
    "# pre-processed data\n",
    "mrna = \"R/TCGA BRCA/mrna_top1000.csv\"\n",
    "meth = \"R/TCGA BRCA/meth_top1000.csv\"\n",
    "mirna = \"R/TCGA BRCA/mirna_anova.csv\"\n",
    "meta_csv = \"R/TCGA BRCA/PAM50_subtype.csv\"\n",
    "trte_partition_file = \"R/TCGA BRCA/trte_partition.txt\"\n",
    "\n",
    "# change label from text to integer\n",
    "label_dict = {'Normal':0, 'Basal':1, 'Her2':2, 'LumA':3, 'LumB':4}\n",
    "\n",
    "# load preprocessed data from csv\n",
    "#load_list - list of csv files to laod. The -2 position should be meta_csv and -1 position should be trte_partition_file\n",
    "load_list = [mrna, meth, mirna, meta_csv, trte_partition_file]\n",
    "GCN_names = [\"mRNA\",\"methylation\",\"miRNA\"]\n",
    "\n",
    "COMBINER = \"VCDN\""
   ]
  },
  {
   "cell_type": "code",
   "execution_count": 6,
   "metadata": {},
   "outputs": [],
   "source": [
    "doSMOTE = True # Boolean\n",
    "\n",
    "# MORONET training parameters\n",
    "num_epoch = 400\n",
    "test_interval = 50\n",
    "lr = 5e-4\n",
    "weight_decay = 5e-4\n",
    "dropout = 0.25\n",
    "adj_parameter = 8 # average number of edge per node in adj matrix\n",
    "\n",
    "# VERBOSE setting for print results\n",
    "VERBOSE = 2 #0, only print final result; 1, only testing result; 2, training and testing result\n",
    "OUTPUT_FILES = False #Boolean to determine whether to output loss and metrics as csv files\n",
    "MAKE_PLOTS = False #Boolean to determine whether to output loss and metrics as plots in png format\n",
    "REPEATS = 3 #Integer, how many times to independently train the model\n",
    "feature_extract = [] #[\"lime\", \"shap\"]\n",
    "num_gcn = 2"
   ]
  },
  {
   "cell_type": "code",
   "execution_count": null,
   "metadata": {},
   "outputs": [
    {
     "name": "stdout",
     "output_type": "stream",
     "text": [
      "2021-05-26 17:30:18.348572 \n",
      "\n",
      "ANOVA top 1000 features selected greedily with correlation below 0.8 \n",
      "This run includes only 3 GCNs - mRNA, DNA methylation, miRNA\n",
      "SEED =  59033\n"
     ]
    },
    {
     "name": "stderr",
     "output_type": "stream",
     "text": [
      "/pytorch/torch/csrc/utils/python_arg_parser.cpp:756: UserWarning: This overload of nonzero is deprecated:\n",
      "\tnonzero(Tensor input, *, Tensor out)\n",
      "Consider using one of the following signatures instead:\n",
      "\tnonzero(Tensor input, *, bool as_tuple)\n"
     ]
    },
    {
     "name": "stdout",
     "output_type": "stream",
     "text": [
      "\n",
      "Training...\n",
      "Epoch 0, Train loss: mRNA:6.40e-02, methylation:7.11e-02, miRNA:4.52e-02, VCDN:3.24e-01\n",
      "\n",
      "Test: Epoch 0\n",
      "Train Accuracy: 0.1866   Test ACC: 0.1359\n",
      "Train F1: 0.0884         Test F1: 0.0325\n",
      "\n",
      "Label        Train Distribution     Train Accuracy     Test Distribution     Test Accuracy\n",
      "------------------------------------------------------------------------------------------\n",
      "Normal \t           0.2000              0.8182              0.1359              1.0000\n",
      "Basal \t           0.2000              0.0000              0.1522              0.0000\n",
      "Her2 \t           0.2000              0.1148              0.0543              0.0000\n",
      "LumA \t           0.2000              0.0000              0.4837              0.0000\n",
      "LumB \t           0.2000              0.0000              0.1739              0.0000\n",
      "\n",
      "Epoch 1, Train loss: mRNA:5.90e-02, methylation:6.34e-02, miRNA:4.46e-02, VCDN:3.23e-01\n",
      "Epoch 2, Train loss: mRNA:5.59e-02, methylation:5.92e-02, miRNA:4.42e-02, VCDN:3.23e-01\n",
      "Epoch 3, Train loss: mRNA:5.16e-02, methylation:5.53e-02, miRNA:4.39e-02, VCDN:3.22e-01\n",
      "Epoch 4, Train loss: mRNA:5.08e-02, methylation:5.32e-02, miRNA:4.33e-02, VCDN:3.22e-01\n",
      "Epoch 5, Train loss: mRNA:5.00e-02, methylation:5.21e-02, miRNA:4.29e-02, VCDN:3.22e-01\n",
      "Epoch 6, Train loss: mRNA:4.90e-02, methylation:5.13e-02, miRNA:4.24e-02, VCDN:3.22e-01\n",
      "Epoch 7, Train loss: mRNA:4.99e-02, methylation:5.34e-02, miRNA:4.19e-02, VCDN:3.22e-01\n",
      "Epoch 8, Train loss: mRNA:5.08e-02, methylation:5.49e-02, miRNA:4.17e-02, VCDN:3.22e-01\n",
      "Epoch 9, Train loss: mRNA:5.20e-02, methylation:5.34e-02, miRNA:4.13e-02, VCDN:3.22e-01\n",
      "Epoch 10, Train loss: mRNA:4.97e-02, methylation:5.37e-02, miRNA:4.08e-02, VCDN:3.22e-01\n",
      "Epoch 11, Train loss: mRNA:5.02e-02, methylation:5.47e-02, miRNA:4.04e-02, VCDN:3.22e-01\n",
      "Epoch 12, Train loss: mRNA:5.18e-02, methylation:5.36e-02, miRNA:4.00e-02, VCDN:3.22e-01\n",
      "Epoch 13, Train loss: mRNA:4.96e-02, methylation:5.18e-02, miRNA:3.95e-02, VCDN:3.22e-01\n",
      "Epoch 14, Train loss: mRNA:4.79e-02, methylation:5.19e-02, miRNA:3.92e-02, VCDN:3.22e-01\n",
      "Epoch 15, Train loss: mRNA:4.97e-02, methylation:4.88e-02, miRNA:3.89e-02, VCDN:3.22e-01\n",
      "Epoch 16, Train loss: mRNA:4.80e-02, methylation:4.80e-02, miRNA:3.85e-02, VCDN:3.21e-01\n",
      "Epoch 17, Train loss: mRNA:4.63e-02, methylation:5.01e-02, miRNA:3.85e-02, VCDN:3.21e-01\n",
      "Epoch 18, Train loss: mRNA:4.74e-02, methylation:4.94e-02, miRNA:3.82e-02, VCDN:3.21e-01\n",
      "Epoch 19, Train loss: mRNA:4.52e-02, methylation:4.91e-02, miRNA:3.77e-02, VCDN:3.21e-01\n",
      "Epoch 20, Train loss: mRNA:4.83e-02, methylation:4.87e-02, miRNA:3.75e-02, VCDN:3.21e-01\n",
      "Epoch 21, Train loss: mRNA:4.70e-02, methylation:4.97e-02, miRNA:3.76e-02, VCDN:3.21e-01\n",
      "Epoch 22, Train loss: mRNA:4.84e-02, methylation:5.03e-02, miRNA:3.71e-02, VCDN:3.21e-01\n",
      "Epoch 23, Train loss: mRNA:4.49e-02, methylation:4.98e-02, miRNA:3.67e-02, VCDN:3.21e-01\n",
      "Epoch 24, Train loss: mRNA:4.59e-02, methylation:4.82e-02, miRNA:3.67e-02, VCDN:3.21e-01\n",
      "Epoch 25, Train loss: mRNA:4.80e-02, methylation:4.77e-02, miRNA:3.63e-02, VCDN:3.21e-01\n",
      "Epoch 26, Train loss: mRNA:4.47e-02, methylation:4.66e-02, miRNA:3.63e-02, VCDN:3.21e-01\n",
      "Epoch 27, Train loss: mRNA:4.48e-02, methylation:4.76e-02, miRNA:3.60e-02, VCDN:3.21e-01\n",
      "Epoch 28, Train loss: mRNA:4.55e-02, methylation:4.79e-02, miRNA:3.60e-02, VCDN:3.21e-01\n",
      "Epoch 29, Train loss: mRNA:4.46e-02, methylation:4.70e-02, miRNA:3.57e-02, VCDN:3.20e-01\n",
      "Epoch 30, Train loss: mRNA:4.33e-02, methylation:4.70e-02, miRNA:3.54e-02, VCDN:3.20e-01\n",
      "Epoch 31, Train loss: mRNA:4.40e-02, methylation:4.63e-02, miRNA:3.51e-02, VCDN:3.20e-01\n",
      "Epoch 32, Train loss: mRNA:4.40e-02, methylation:4.62e-02, miRNA:3.52e-02, VCDN:3.20e-01\n",
      "Epoch 33, Train loss: mRNA:4.48e-02, methylation:4.56e-02, miRNA:3.49e-02, VCDN:3.20e-01\n",
      "Epoch 34, Train loss: mRNA:4.42e-02, methylation:4.61e-02, miRNA:3.49e-02, VCDN:3.20e-01\n",
      "Epoch 35, Train loss: mRNA:4.36e-02, methylation:4.59e-02, miRNA:3.45e-02, VCDN:3.20e-01\n",
      "Epoch 36, Train loss: mRNA:4.43e-02, methylation:4.57e-02, miRNA:3.46e-02, VCDN:3.19e-01\n",
      "Epoch 37, Train loss: mRNA:4.41e-02, methylation:4.51e-02, miRNA:3.42e-02, VCDN:3.20e-01\n",
      "Epoch 38, Train loss: mRNA:4.33e-02, methylation:4.55e-02, miRNA:3.43e-02, VCDN:3.19e-01\n",
      "Epoch 39, Train loss: mRNA:4.12e-02, methylation:4.47e-02, miRNA:3.40e-02, VCDN:3.19e-01\n",
      "Epoch 40, Train loss: mRNA:4.24e-02, methylation:4.43e-02, miRNA:3.40e-02, VCDN:3.19e-01\n",
      "Epoch 41, Train loss: mRNA:4.21e-02, methylation:4.37e-02, miRNA:3.39e-02, VCDN:3.19e-01\n",
      "Epoch 42, Train loss: mRNA:4.14e-02, methylation:4.52e-02, miRNA:3.41e-02, VCDN:3.19e-01\n",
      "Epoch 43, Train loss: mRNA:4.13e-02, methylation:4.47e-02, miRNA:3.37e-02, VCDN:3.18e-01\n",
      "Epoch 44, Train loss: mRNA:4.20e-02, methylation:4.40e-02, miRNA:3.37e-02, VCDN:3.18e-01\n",
      "Epoch 45, Train loss: mRNA:4.17e-02, methylation:4.33e-02, miRNA:3.33e-02, VCDN:3.18e-01\n",
      "Epoch 46, Train loss: mRNA:4.06e-02, methylation:4.31e-02, miRNA:3.36e-02, VCDN:3.18e-01\n",
      "Epoch 47, Train loss: mRNA:4.13e-02, methylation:4.38e-02, miRNA:3.34e-02, VCDN:3.18e-01\n",
      "Epoch 48, Train loss: mRNA:4.13e-02, methylation:4.26e-02, miRNA:3.36e-02, VCDN:3.17e-01\n",
      "Epoch 49, Train loss: mRNA:4.08e-02, methylation:4.37e-02, miRNA:3.29e-02, VCDN:3.17e-01\n",
      "Epoch 50, Train loss: mRNA:3.94e-02, methylation:4.33e-02, miRNA:3.32e-02, VCDN:3.17e-01\n"
     ]
    }
   ],
   "source": [
    "losses_df, metrics_df, _ = train_model(load_list=load_list, label_dict=label_dict, GCN_names=GCN_names, COMBINER=COMBINER,\n",
    "        SEED=SEED, num_epoch=num_epoch, test_interval=test_interval, lr=lr, weight_decay=weight_decay, \n",
    "        dropout=dropout, adj_parameter=adj_parameter, VERBOSE=VERBOSE, doSMOTE = doSMOTE,\n",
    "        RUN_TITLE=RUN_TITLE, RUN_TITLE_SHORT=RUN_TITLE_SHORT,\n",
    "        OUTPUT_FILES=OUTPUT_FILES, MAKE_PLOTS=MAKE_PLOTS, feature_extract=feature_extract, num_gcn=num_gcn)\n",
    "\n",
    "#losses_df.to_csv(\"losses.csv\")\n",
    "#metrics_df.to_csv(\"metrics.csv\")"
   ]
  },
  {
   "cell_type": "code",
   "execution_count": null,
   "metadata": {},
   "outputs": [],
   "source": []
  }
 ],
 "metadata": {
  "kernelspec": {
   "display_name": "Python 3",
   "language": "python",
   "name": "python3"
  },
  "language_info": {
   "codemirror_mode": {
    "name": "ipython",
    "version": 3
   },
   "file_extension": ".py",
   "mimetype": "text/x-python",
   "name": "python",
   "nbconvert_exporter": "python",
   "pygments_lexer": "ipython3",
   "version": "3.7.3"
  }
 },
 "nbformat": 4,
 "nbformat_minor": 2
}
