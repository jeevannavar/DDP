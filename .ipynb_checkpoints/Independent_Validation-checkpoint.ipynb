{
 "cells": [
  {
   "cell_type": "markdown",
   "metadata": {},
   "source": [
    "# Independent Validation"
   ]
  },
  {
   "cell_type": "markdown",
   "metadata": {},
   "source": [
    "In this notebook, I will perform independent validation of my Graph Convolution Network based model. \n",
    "\n",
    "I validate my model and consequently the biomarkers I produce using the model on the TCGA BRCA multi-omics data set using the following three methods:\n",
    "1. Generate biomarkers from both the data sets (TCGA BRCA & METABRIC) separately and then compare them\n",
    "2. Train the model on TCGA BRCA data and then validate on METABRIC data\n",
    "3. Train the model on TCGA BRCA data, impute the other omics data for METABRIC data using TCGA BRCA, and then validate on the the imputed data"
   ]
  },
  {
   "cell_type": "markdown",
   "metadata": {},
   "source": [
    "## Section 1: Biomarker comparison"
   ]
  },
  {
   "cell_type": "markdown",
   "metadata": {},
   "source": [
    "In this section, we will generate biomarkers using our model and SHAP on both the data sets and then compare the biomarker sets."
   ]
  },
  {
   "cell_type": "code",
   "execution_count": null,
   "metadata": {},
   "outputs": [],
   "source": []
  },
  {
   "cell_type": "code",
   "execution_count": null,
   "metadata": {},
   "outputs": [],
   "source": []
  },
  {
   "cell_type": "code",
   "execution_count": null,
   "metadata": {},
   "outputs": [],
   "source": []
  },
  {
   "cell_type": "markdown",
   "metadata": {},
   "source": [
    "## Section 2: Testing on Independent Set"
   ]
  },
  {
   "cell_type": "markdown",
   "metadata": {},
   "source": [
    "In this section, we will train the model on TCGA BRCA data and then validate the model on METABRIC data. To ensure that the feature set is the same in both the data sets, I have selected the best features using ANOVA on the BRCA data set and then removed the features not found in the METABRIC data set. This results in only removal of 5% of the originally selected features from the BRCA data set."
   ]
  },
  {
   "cell_type": "code",
   "execution_count": null,
   "metadata": {},
   "outputs": [],
   "source": []
  },
  {
   "cell_type": "code",
   "execution_count": null,
   "metadata": {},
   "outputs": [],
   "source": []
  },
  {
   "cell_type": "code",
   "execution_count": null,
   "metadata": {},
   "outputs": [],
   "source": []
  },
  {
   "cell_type": "markdown",
   "metadata": {},
   "source": [
    "## Section 3: Testing on Independent Imputed Set"
   ]
  },
  {
   "cell_type": "markdown",
   "metadata": {},
   "source": [
    "In this section, we will again train the model on TCGA BRCA data, but instead of training on only the single omics (gene expression) that is present in both data sets, I will use a modified METABRIC data set where the missing omics (DNA Methylation and miRNA expression) are imputed using the TCGA BRCA data. Thus, this will be a multi-omic validation."
   ]
  },
  {
   "cell_type": "code",
   "execution_count": null,
   "metadata": {},
   "outputs": [],
   "source": []
  },
  {
   "cell_type": "code",
   "execution_count": null,
   "metadata": {},
   "outputs": [],
   "source": []
  },
  {
   "cell_type": "code",
   "execution_count": null,
   "metadata": {},
   "outputs": [],
   "source": []
  }
 ],
 "metadata": {
  "kernelspec": {
   "display_name": "Python 3",
   "language": "python",
   "name": "python3"
  },
  "language_info": {
   "codemirror_mode": {
    "name": "ipython",
    "version": 3
   },
   "file_extension": ".py",
   "mimetype": "text/x-python",
   "name": "python",
   "nbconvert_exporter": "python",
   "pygments_lexer": "ipython3",
   "version": "3.7.3"
  }
 },
 "nbformat": 4,
 "nbformat_minor": 2
}
